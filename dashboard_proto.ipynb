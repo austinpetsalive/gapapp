{
 "cells": [
  {
   "cell_type": "code",
   "execution_count": 16,
   "metadata": {},
   "outputs": [
    {
     "data": {
      "text/plain": [
       "Index(['Intake Date', 'Source', 'Species', 'Group', 'Size', 'Outcome',\n",
       "       'Cause of Death (if applicable)', 'Housing Need'],\n",
       "      dtype='object')"
      ]
     },
     "execution_count": 16,
     "metadata": {},
     "output_type": "execute_result"
    }
   ],
   "source": [
    "import pandas as pd\n",
    "\n",
    "df = pd.read_pickle('./none-20190407-155058.pkl')\n",
    "df.columns"
   ]
  },
  {
   "cell_type": "code",
   "execution_count": 79,
   "metadata": {},
   "outputs": [
    {
     "data": {
      "text/html": [
       "<div>\n",
       "<style scoped>\n",
       "    .dataframe tbody tr th:only-of-type {\n",
       "        vertical-align: middle;\n",
       "    }\n",
       "\n",
       "    .dataframe tbody tr th {\n",
       "        vertical-align: top;\n",
       "    }\n",
       "\n",
       "    .dataframe thead th {\n",
       "        text-align: right;\n",
       "    }\n",
       "</style>\n",
       "<table border=\"1\" class=\"dataframe\">\n",
       "  <thead>\n",
       "    <tr style=\"text-align: right;\">\n",
       "      <th></th>\n",
       "      <th>Intake Date</th>\n",
       "      <th>Source</th>\n",
       "      <th>Species</th>\n",
       "      <th>Group</th>\n",
       "      <th>Size</th>\n",
       "      <th>Outcome</th>\n",
       "      <th>Cause of Death (if applicable)</th>\n",
       "      <th>Housing Need</th>\n",
       "    </tr>\n",
       "  </thead>\n",
       "  <tbody>\n",
       "    <tr>\n",
       "      <th>0</th>\n",
       "      <td>2019-03-05</td>\n",
       "      <td>From Field</td>\n",
       "      <td>Dog</td>\n",
       "      <td>Neonatal (less than 6 weeks)</td>\n",
       "      <td>Small (under 35lbs for dogs)</td>\n",
       "      <td>Adoption</td>\n",
       "      <td>Did Not Die</td>\n",
       "      <td>Co-Housing</td>\n",
       "    </tr>\n",
       "    <tr>\n",
       "      <th>1</th>\n",
       "      <td>2019-03-06</td>\n",
       "      <td>From Field</td>\n",
       "      <td>Dog</td>\n",
       "      <td>Neonatal (less than 6 weeks)</td>\n",
       "      <td>Small (under 35lbs for dogs)</td>\n",
       "      <td>Adoption</td>\n",
       "      <td>Did Not Die</td>\n",
       "      <td>Co-Housing</td>\n",
       "    </tr>\n",
       "    <tr>\n",
       "      <th>2</th>\n",
       "      <td>2019-03-05</td>\n",
       "      <td>Over Counter</td>\n",
       "      <td>Dog</td>\n",
       "      <td>Neonatal (less than 6 weeks)</td>\n",
       "      <td>Small (under 35lbs for dogs)</td>\n",
       "      <td>Adoption</td>\n",
       "      <td>Did Not Die</td>\n",
       "      <td>Co-Housing</td>\n",
       "    </tr>\n",
       "    <tr>\n",
       "      <th>3</th>\n",
       "      <td>2019-03-07</td>\n",
       "      <td>Over Counter</td>\n",
       "      <td>Dog</td>\n",
       "      <td>Neonatal (less than 6 weeks)</td>\n",
       "      <td>Small (under 35lbs for dogs)</td>\n",
       "      <td>Adoption</td>\n",
       "      <td>Did Not Die</td>\n",
       "      <td>Co-Housing</td>\n",
       "    </tr>\n",
       "    <tr>\n",
       "      <th>4</th>\n",
       "      <td>2019-03-05</td>\n",
       "      <td>From Field</td>\n",
       "      <td>Dog</td>\n",
       "      <td>Puppies/Kittens (6 weeks to 6 months)</td>\n",
       "      <td>Small (under 35lbs for dogs)</td>\n",
       "      <td>Return to Owner</td>\n",
       "      <td>Did Not Die</td>\n",
       "      <td>Co-Housing</td>\n",
       "    </tr>\n",
       "    <tr>\n",
       "      <th>5</th>\n",
       "      <td>2019-03-08</td>\n",
       "      <td>From Field</td>\n",
       "      <td>Dog</td>\n",
       "      <td>Adult (6 months to 12 years)</td>\n",
       "      <td>Large (over 35lbs for dogs)</td>\n",
       "      <td>Return to Owner</td>\n",
       "      <td>Did Not Die</td>\n",
       "      <td>Single Unit Housing</td>\n",
       "    </tr>\n",
       "    <tr>\n",
       "      <th>6</th>\n",
       "      <td>2019-03-08</td>\n",
       "      <td>From Field</td>\n",
       "      <td>Dog</td>\n",
       "      <td>Adult (6 months to 12 years)</td>\n",
       "      <td>Large (over 35lbs for dogs)</td>\n",
       "      <td>Transfer Out</td>\n",
       "      <td>Did Not Die</td>\n",
       "      <td>Single Unit Housing</td>\n",
       "    </tr>\n",
       "    <tr>\n",
       "      <th>7</th>\n",
       "      <td>2019-03-09</td>\n",
       "      <td>Over Counter</td>\n",
       "      <td>Dog</td>\n",
       "      <td>Adult (6 months to 12 years)</td>\n",
       "      <td>Large (over 35lbs for dogs)</td>\n",
       "      <td>Death/Euthanized</td>\n",
       "      <td>Behavior (Including Fractious/Feral)</td>\n",
       "      <td>Single Unit Housing</td>\n",
       "    </tr>\n",
       "    <tr>\n",
       "      <th>8</th>\n",
       "      <td>2019-03-10</td>\n",
       "      <td>From Field</td>\n",
       "      <td>Dog</td>\n",
       "      <td>Puppies/Kittens (6 weeks to 6 months)</td>\n",
       "      <td>Large (over 35lbs for dogs)</td>\n",
       "      <td>Adoption</td>\n",
       "      <td>Did Not Die</td>\n",
       "      <td>Single Unit Housing</td>\n",
       "    </tr>\n",
       "    <tr>\n",
       "      <th>9</th>\n",
       "      <td>2019-03-11</td>\n",
       "      <td>From Field</td>\n",
       "      <td>Dog</td>\n",
       "      <td>Puppies/Kittens (6 weeks to 6 months)</td>\n",
       "      <td>Large (over 35lbs for dogs)</td>\n",
       "      <td>Adoption</td>\n",
       "      <td>Did Not Die</td>\n",
       "      <td>Single Unit Housing</td>\n",
       "    </tr>\n",
       "    <tr>\n",
       "      <th>10</th>\n",
       "      <td>2019-03-12</td>\n",
       "      <td>From Field</td>\n",
       "      <td>Dog</td>\n",
       "      <td>Adult (6 months to 12 years)</td>\n",
       "      <td>Large (over 35lbs for dogs)</td>\n",
       "      <td>Adoption</td>\n",
       "      <td>Did Not Die</td>\n",
       "      <td>Single Unit Housing</td>\n",
       "    </tr>\n",
       "    <tr>\n",
       "      <th>11</th>\n",
       "      <td>2019-03-13</td>\n",
       "      <td>Over Counter</td>\n",
       "      <td>Dog</td>\n",
       "      <td>Adult (6 months to 12 years)</td>\n",
       "      <td>Large (over 35lbs for dogs)</td>\n",
       "      <td>Adoption</td>\n",
       "      <td>Did Not Die</td>\n",
       "      <td>Single Unit Housing</td>\n",
       "    </tr>\n",
       "    <tr>\n",
       "      <th>12</th>\n",
       "      <td>2019-03-14</td>\n",
       "      <td>Over Counter</td>\n",
       "      <td>Dog</td>\n",
       "      <td>Adult (6 months to 12 years)</td>\n",
       "      <td>Large (over 35lbs for dogs)</td>\n",
       "      <td>Return to Owner</td>\n",
       "      <td>Did Not Die</td>\n",
       "      <td>Single Unit Housing</td>\n",
       "    </tr>\n",
       "    <tr>\n",
       "      <th>13</th>\n",
       "      <td>2019-03-14</td>\n",
       "      <td>Over Counter</td>\n",
       "      <td>Dog</td>\n",
       "      <td>Adult (6 months to 12 years)</td>\n",
       "      <td>Large (over 35lbs for dogs)</td>\n",
       "      <td>Death/Euthanized</td>\n",
       "      <td>Medical - Parvo</td>\n",
       "      <td>Single Unit Housing</td>\n",
       "    </tr>\n",
       "    <tr>\n",
       "      <th>14</th>\n",
       "      <td>2019-03-14</td>\n",
       "      <td>From Field</td>\n",
       "      <td>Cat</td>\n",
       "      <td>Puppies/Kittens (6 weeks to 6 months)</td>\n",
       "      <td>N/A</td>\n",
       "      <td>Death/Euthanized</td>\n",
       "      <td>Medical - Parvo</td>\n",
       "      <td>None/Not Applicable</td>\n",
       "    </tr>\n",
       "    <tr>\n",
       "      <th>15</th>\n",
       "      <td>2019-03-14</td>\n",
       "      <td>Over Counter</td>\n",
       "      <td>Cat</td>\n",
       "      <td>Puppies/Kittens (6 weeks to 6 months)</td>\n",
       "      <td>N/A</td>\n",
       "      <td>Adoption</td>\n",
       "      <td>Did Not Die</td>\n",
       "      <td>None/Not Applicable</td>\n",
       "    </tr>\n",
       "    <tr>\n",
       "      <th>16</th>\n",
       "      <td>2019-03-14</td>\n",
       "      <td>From Field</td>\n",
       "      <td>Dog</td>\n",
       "      <td>Adult (6 months to 12 years)</td>\n",
       "      <td>Large (over 35lbs for dogs)</td>\n",
       "      <td>Adoption</td>\n",
       "      <td>Did Not Die</td>\n",
       "      <td>Single Unit Housing</td>\n",
       "    </tr>\n",
       "    <tr>\n",
       "      <th>17</th>\n",
       "      <td>2019-03-14</td>\n",
       "      <td>Over Counter</td>\n",
       "      <td>Dog</td>\n",
       "      <td>Adult (6 months to 12 years)</td>\n",
       "      <td>Small (under 35lbs for dogs)</td>\n",
       "      <td>Adoption</td>\n",
       "      <td>Did Not Die</td>\n",
       "      <td>Co-Housing</td>\n",
       "    </tr>\n",
       "    <tr>\n",
       "      <th>18</th>\n",
       "      <td>2019-03-14</td>\n",
       "      <td>From Field</td>\n",
       "      <td>Dog</td>\n",
       "      <td>Adult (6 months to 12 years)</td>\n",
       "      <td>Small (under 35lbs for dogs)</td>\n",
       "      <td>Adoption</td>\n",
       "      <td>Did Not Die</td>\n",
       "      <td>Co-Housing</td>\n",
       "    </tr>\n",
       "    <tr>\n",
       "      <th>19</th>\n",
       "      <td>2019-03-14</td>\n",
       "      <td>From Field</td>\n",
       "      <td>Cat</td>\n",
       "      <td>Adult (6 months to 12 years)</td>\n",
       "      <td>N/A</td>\n",
       "      <td>Adoption</td>\n",
       "      <td>Did Not Die</td>\n",
       "      <td>None/Not Applicable</td>\n",
       "    </tr>\n",
       "    <tr>\n",
       "      <th>20</th>\n",
       "      <td>2019-03-14</td>\n",
       "      <td>Over Counter</td>\n",
       "      <td>Dog</td>\n",
       "      <td>Puppies/Kittens (6 weeks to 6 months)</td>\n",
       "      <td>Small (under 35lbs for dogs)</td>\n",
       "      <td>Adoption</td>\n",
       "      <td>Did Not Die</td>\n",
       "      <td>Co-Housing</td>\n",
       "    </tr>\n",
       "    <tr>\n",
       "      <th>21</th>\n",
       "      <td>2019-03-14</td>\n",
       "      <td>From Field</td>\n",
       "      <td>Dog</td>\n",
       "      <td>Puppies/Kittens (6 weeks to 6 months)</td>\n",
       "      <td>Small (under 35lbs for dogs)</td>\n",
       "      <td>Return to Owner</td>\n",
       "      <td>Did Not Die</td>\n",
       "      <td>Co-Housing</td>\n",
       "    </tr>\n",
       "    <tr>\n",
       "      <th>22</th>\n",
       "      <td>2019-03-14</td>\n",
       "      <td>From Field</td>\n",
       "      <td>Dog</td>\n",
       "      <td>Adult (6 months to 12 years)</td>\n",
       "      <td>Small (under 35lbs for dogs)</td>\n",
       "      <td>Death/Euthanized</td>\n",
       "      <td>Medical - Distemper</td>\n",
       "      <td>Single Unit Housing</td>\n",
       "    </tr>\n",
       "    <tr>\n",
       "      <th>23</th>\n",
       "      <td>2019-03-14</td>\n",
       "      <td>From Field</td>\n",
       "      <td>Cat</td>\n",
       "      <td>Adult (6 months to 12 years)</td>\n",
       "      <td>N/A</td>\n",
       "      <td>Adoption</td>\n",
       "      <td>Did Not Die</td>\n",
       "      <td>None/Not Applicable</td>\n",
       "    </tr>\n",
       "    <tr>\n",
       "      <th>24</th>\n",
       "      <td>2019-03-14</td>\n",
       "      <td>From Field</td>\n",
       "      <td>Cat</td>\n",
       "      <td>Neonatal (less than 6 weeks)</td>\n",
       "      <td>N/A</td>\n",
       "      <td>Death/Euthanized</td>\n",
       "      <td>Medical - Ringworm</td>\n",
       "      <td>None/Not Applicable</td>\n",
       "    </tr>\n",
       "    <tr>\n",
       "      <th>25</th>\n",
       "      <td>2019-03-14</td>\n",
       "      <td>From Field</td>\n",
       "      <td>Cat</td>\n",
       "      <td>Senior (12 years and older)</td>\n",
       "      <td>N/A</td>\n",
       "      <td>Adoption</td>\n",
       "      <td>Did Not Die</td>\n",
       "      <td>None/Not Applicable</td>\n",
       "    </tr>\n",
       "    <tr>\n",
       "      <th>26</th>\n",
       "      <td>2019-03-14</td>\n",
       "      <td>From Field</td>\n",
       "      <td>Cat</td>\n",
       "      <td>Neonatal (less than 6 weeks)</td>\n",
       "      <td>N/A</td>\n",
       "      <td>Adoption</td>\n",
       "      <td>Did Not Die</td>\n",
       "      <td>None/Not Applicable</td>\n",
       "    </tr>\n",
       "  </tbody>\n",
       "</table>\n",
       "</div>"
      ],
      "text/plain": [
       "   Intake Date        Source Species                                  Group  \\\n",
       "0   2019-03-05    From Field     Dog           Neonatal (less than 6 weeks)   \n",
       "1   2019-03-06    From Field     Dog           Neonatal (less than 6 weeks)   \n",
       "2   2019-03-05  Over Counter     Dog           Neonatal (less than 6 weeks)   \n",
       "3   2019-03-07  Over Counter     Dog           Neonatal (less than 6 weeks)   \n",
       "4   2019-03-05    From Field     Dog  Puppies/Kittens (6 weeks to 6 months)   \n",
       "5   2019-03-08    From Field     Dog           Adult (6 months to 12 years)   \n",
       "6   2019-03-08    From Field     Dog           Adult (6 months to 12 years)   \n",
       "7   2019-03-09  Over Counter     Dog           Adult (6 months to 12 years)   \n",
       "8   2019-03-10    From Field     Dog  Puppies/Kittens (6 weeks to 6 months)   \n",
       "9   2019-03-11    From Field     Dog  Puppies/Kittens (6 weeks to 6 months)   \n",
       "10  2019-03-12    From Field     Dog           Adult (6 months to 12 years)   \n",
       "11  2019-03-13  Over Counter     Dog           Adult (6 months to 12 years)   \n",
       "12  2019-03-14  Over Counter     Dog           Adult (6 months to 12 years)   \n",
       "13  2019-03-14  Over Counter     Dog           Adult (6 months to 12 years)   \n",
       "14  2019-03-14    From Field     Cat  Puppies/Kittens (6 weeks to 6 months)   \n",
       "15  2019-03-14  Over Counter     Cat  Puppies/Kittens (6 weeks to 6 months)   \n",
       "16  2019-03-14    From Field     Dog           Adult (6 months to 12 years)   \n",
       "17  2019-03-14  Over Counter     Dog           Adult (6 months to 12 years)   \n",
       "18  2019-03-14    From Field     Dog           Adult (6 months to 12 years)   \n",
       "19  2019-03-14    From Field     Cat           Adult (6 months to 12 years)   \n",
       "20  2019-03-14  Over Counter     Dog  Puppies/Kittens (6 weeks to 6 months)   \n",
       "21  2019-03-14    From Field     Dog  Puppies/Kittens (6 weeks to 6 months)   \n",
       "22  2019-03-14    From Field     Dog           Adult (6 months to 12 years)   \n",
       "23  2019-03-14    From Field     Cat           Adult (6 months to 12 years)   \n",
       "24  2019-03-14    From Field     Cat           Neonatal (less than 6 weeks)   \n",
       "25  2019-03-14    From Field     Cat            Senior (12 years and older)   \n",
       "26  2019-03-14    From Field     Cat           Neonatal (less than 6 weeks)   \n",
       "\n",
       "                            Size           Outcome  \\\n",
       "0   Small (under 35lbs for dogs)          Adoption   \n",
       "1   Small (under 35lbs for dogs)          Adoption   \n",
       "2   Small (under 35lbs for dogs)          Adoption   \n",
       "3   Small (under 35lbs for dogs)          Adoption   \n",
       "4   Small (under 35lbs for dogs)   Return to Owner   \n",
       "5    Large (over 35lbs for dogs)   Return to Owner   \n",
       "6    Large (over 35lbs for dogs)      Transfer Out   \n",
       "7    Large (over 35lbs for dogs)  Death/Euthanized   \n",
       "8    Large (over 35lbs for dogs)          Adoption   \n",
       "9    Large (over 35lbs for dogs)          Adoption   \n",
       "10   Large (over 35lbs for dogs)          Adoption   \n",
       "11   Large (over 35lbs for dogs)          Adoption   \n",
       "12   Large (over 35lbs for dogs)   Return to Owner   \n",
       "13   Large (over 35lbs for dogs)  Death/Euthanized   \n",
       "14                           N/A  Death/Euthanized   \n",
       "15                           N/A          Adoption   \n",
       "16   Large (over 35lbs for dogs)          Adoption   \n",
       "17  Small (under 35lbs for dogs)          Adoption   \n",
       "18  Small (under 35lbs for dogs)          Adoption   \n",
       "19                           N/A          Adoption   \n",
       "20  Small (under 35lbs for dogs)          Adoption   \n",
       "21  Small (under 35lbs for dogs)   Return to Owner   \n",
       "22  Small (under 35lbs for dogs)  Death/Euthanized   \n",
       "23                           N/A          Adoption   \n",
       "24                           N/A  Death/Euthanized   \n",
       "25                           N/A          Adoption   \n",
       "26                           N/A          Adoption   \n",
       "\n",
       "          Cause of Death (if applicable)         Housing Need  \n",
       "0                            Did Not Die           Co-Housing  \n",
       "1                            Did Not Die           Co-Housing  \n",
       "2                            Did Not Die           Co-Housing  \n",
       "3                            Did Not Die           Co-Housing  \n",
       "4                            Did Not Die           Co-Housing  \n",
       "5                            Did Not Die  Single Unit Housing  \n",
       "6                            Did Not Die  Single Unit Housing  \n",
       "7   Behavior (Including Fractious/Feral)  Single Unit Housing  \n",
       "8                            Did Not Die  Single Unit Housing  \n",
       "9                            Did Not Die  Single Unit Housing  \n",
       "10                           Did Not Die  Single Unit Housing  \n",
       "11                           Did Not Die  Single Unit Housing  \n",
       "12                           Did Not Die  Single Unit Housing  \n",
       "13                       Medical - Parvo  Single Unit Housing  \n",
       "14                       Medical - Parvo  None/Not Applicable  \n",
       "15                           Did Not Die  None/Not Applicable  \n",
       "16                           Did Not Die  Single Unit Housing  \n",
       "17                           Did Not Die           Co-Housing  \n",
       "18                           Did Not Die           Co-Housing  \n",
       "19                           Did Not Die  None/Not Applicable  \n",
       "20                           Did Not Die           Co-Housing  \n",
       "21                           Did Not Die           Co-Housing  \n",
       "22                   Medical - Distemper  Single Unit Housing  \n",
       "23                           Did Not Die  None/Not Applicable  \n",
       "24                    Medical - Ringworm  None/Not Applicable  \n",
       "25                           Did Not Die  None/Not Applicable  \n",
       "26                           Did Not Die  None/Not Applicable  "
      ]
     },
     "execution_count": 79,
     "metadata": {},
     "output_type": "execute_result"
    }
   ],
   "source": [
    "df"
   ]
  },
  {
   "cell_type": "code",
   "execution_count": 80,
   "metadata": {},
   "outputs": [
    {
     "data": {
      "text/plain": [
       "<matplotlib.axes._subplots.AxesSubplot at 0x2a820936d30>"
      ]
     },
     "execution_count": 80,
     "metadata": {},
     "output_type": "execute_result"
    },
    {
     "data": {
      "image/png": "[encoded data removed]",
      "text/plain": [
       "<Figure size 432x288 with 1 Axes>"
      ]
     },
     "metadata": {
      "needs_background": "light"
     },
     "output_type": "display_data"
    }
   ],
   "source": [
    "import matplotlib.pyplot as plt\n",
    "%matplotlib inline\n",
    "\n",
    "df.groupby('Intake Date')['Outcome'].value_counts().plot()"
   ]
  },
  {
   "cell_type": "code",
   "execution_count": 81,
   "metadata": {},
   "outputs": [
    {
     "data": {
      "text/plain": [
       "Index(['Adoption', 'Death/Euthanized', 'Return to Owner', 'Transfer Out'], dtype='object')"
      ]
     },
     "execution_count": 81,
     "metadata": {},
     "output_type": "execute_result"
    }
   ],
   "source": [
    "df['Outcome'].value_counts().keys()"
   ]
  },
  {
   "cell_type": "code",
   "execution_count": 82,
   "metadata": {},
   "outputs": [
    {
     "data": {
      "text/html": [
       "<script type=\"text/javascript\">window.PlotlyConfig = {MathJaxConfig: 'local'};</script><script type=\"text/javascript\">if (window.MathJax) {MathJax.Hub.Config({SVG: {font: \"STIX-Web\"}});}</script><script>requirejs.config({paths: { 'plotly': ['https://cdn.plot.ly/plotly-latest.min']},});if(!window._Plotly) {require(['plotly'],function(plotly) {window._Plotly=plotly;});}</script>"
      ],
      "text/vnd.plotly.v1+html": [
       "<script type=\"text/javascript\">window.PlotlyConfig = {MathJaxConfig: 'local'};</script><script type=\"text/javascript\">if (window.MathJax) {MathJax.Hub.Config({SVG: {font: \"STIX-Web\"}});}</script><script>requirejs.config({paths: { 'plotly': ['https://cdn.plot.ly/plotly-latest.min']},});if(!window._Plotly) {require(['plotly'],function(plotly) {window._Plotly=plotly;});}</script>"
      ]
     },
     "metadata": {},
     "output_type": "display_data"
    }
   ],
   "source": [
    "import plotly.graph_objs as go\n",
    "from plotly.offline import download_plotlyjs, init_notebook_mode, plot, iplot\n",
    "\n",
    "init_notebook_mode(connected=True)"
   ]
  },
  {
   "cell_type": "code",
   "execution_count": 83,
   "metadata": {},
   "outputs": [
    {
     "data": {
      "application/vnd.plotly.v1+json": {
       "config": {
        "linkText": "Export to plot.ly",
        "plotlyServerURL": "https://plot.ly",
        "showLink": false
       },
       "data": [
        {
         "name": "Adoption",
         "type": "histogram",
         "uid": "8b22ed61-0ae9-42ac-9d90-6e952774ba1a",
         "x": [
          "2019-03-05",
          "2019-03-06",
          "2019-03-05",
          "2019-03-07",
          "2019-03-10",
          "2019-03-11",
          "2019-03-12",
          "2019-03-13",
          "2019-03-14",
          "2019-03-14",
          "2019-03-14",
          "2019-03-14",
          "2019-03-14",
          "2019-03-14",
          "2019-03-14",
          "2019-03-14",
          "2019-03-14"
         ]
        },
        {
         "name": "Death/Euthanized",
         "type": "histogram",
         "uid": "0815d84e-e08b-4174-af30-82c68fcfd720",
         "x": [
          "2019-03-09",
          "2019-03-14",
          "2019-03-14",
          "2019-03-14",
          "2019-03-14"
         ]
        },
        {
         "name": "Return To Owner",
         "type": "histogram",
         "uid": "cdffe639-7394-47f9-a5b1-6580c55f02aa",
         "x": [
          "2019-03-05",
          "2019-03-08",
          "2019-03-14",
          "2019-03-14"
         ]
        },
        {
         "name": "Transfer Out",
         "type": "histogram",
         "uid": "2f691e40-8c4d-421c-8235-62ac1a703846",
         "x": [
          "2019-03-08"
         ]
        }
       ],
       "layout": {
        "barmode": "stack"
       }
      },
      "text/html": [
       "<div id=\"f811835d-bd53-49a0-9a3d-2387ea0cafbd\" style=\"height: 525px; width: 100%;\" class=\"plotly-graph-div\"></div><script type=\"text/javascript\">require([\"plotly\"], function(Plotly) { window.PLOTLYENV=window.PLOTLYENV || {};window.PLOTLYENV.BASE_URL=\"https://plot.ly\";\n",
       "if (document.getElementById(\"f811835d-bd53-49a0-9a3d-2387ea0cafbd\")) {\n",
       "    Plotly.newPlot(\"f811835d-bd53-49a0-9a3d-2387ea0cafbd\", [{\"name\": \"Adoption\", \"x\": [\"2019-03-05\", \"2019-03-06\", \"2019-03-05\", \"2019-03-07\", \"2019-03-10\", \"2019-03-11\", \"2019-03-12\", \"2019-03-13\", \"2019-03-14\", \"2019-03-14\", \"2019-03-14\", \"2019-03-14\", \"2019-03-14\", \"2019-03-14\", \"2019-03-14\", \"2019-03-14\", \"2019-03-14\"], \"type\": \"histogram\", \"uid\": \"8b22ed61-0ae9-42ac-9d90-6e952774ba1a\"}, {\"name\": \"Death/Euthanized\", \"x\": [\"2019-03-09\", \"2019-03-14\", \"2019-03-14\", \"2019-03-14\", \"2019-03-14\"], \"type\": \"histogram\", \"uid\": \"0815d84e-e08b-4174-af30-82c68fcfd720\"}, {\"name\": \"Return To Owner\", \"x\": [\"2019-03-05\", \"2019-03-08\", \"2019-03-14\", \"2019-03-14\"], \"type\": \"histogram\", \"uid\": \"cdffe639-7394-47f9-a5b1-6580c55f02aa\"}, {\"name\": \"Transfer Out\", \"x\": [\"2019-03-08\"], \"type\": \"histogram\", \"uid\": \"2f691e40-8c4d-421c-8235-62ac1a703846\"}], {\"barmode\": \"stack\"}, {\"showLink\": false, \"linkText\": \"Export to plot.ly\", \"plotlyServerURL\": \"https://plot.ly\"}); \n",
       "}\n",
       "});</script><script type=\"text/javascript\">window.addEventListener(\"resize\", function(){if (document.getElementById(\"f811835d-bd53-49a0-9a3d-2387ea0cafbd\")) {window._Plotly.Plots.resize(document.getElementById(\"f811835d-bd53-49a0-9a3d-2387ea0cafbd\"));};})</script>"
      ],
      "text/vnd.plotly.v1+html": [
       "<div id=\"f811835d-bd53-49a0-9a3d-2387ea0cafbd\" style=\"height: 525px; width: 100%;\" class=\"plotly-graph-div\"></div><script type=\"text/javascript\">require([\"plotly\"], function(Plotly) { window.PLOTLYENV=window.PLOTLYENV || {};window.PLOTLYENV.BASE_URL=\"https://plot.ly\";\n",
       "if (document.getElementById(\"f811835d-bd53-49a0-9a3d-2387ea0cafbd\")) {\n",
       "    Plotly.newPlot(\"f811835d-bd53-49a0-9a3d-2387ea0cafbd\", [{\"name\": \"Adoption\", \"x\": [\"2019-03-05\", \"2019-03-06\", \"2019-03-05\", \"2019-03-07\", \"2019-03-10\", \"2019-03-11\", \"2019-03-12\", \"2019-03-13\", \"2019-03-14\", \"2019-03-14\", \"2019-03-14\", \"2019-03-14\", \"2019-03-14\", \"2019-03-14\", \"2019-03-14\", \"2019-03-14\", \"2019-03-14\"], \"type\": \"histogram\", \"uid\": \"8b22ed61-0ae9-42ac-9d90-6e952774ba1a\"}, {\"name\": \"Death/Euthanized\", \"x\": [\"2019-03-09\", \"2019-03-14\", \"2019-03-14\", \"2019-03-14\", \"2019-03-14\"], \"type\": \"histogram\", \"uid\": \"0815d84e-e08b-4174-af30-82c68fcfd720\"}, {\"name\": \"Return To Owner\", \"x\": [\"2019-03-05\", \"2019-03-08\", \"2019-03-14\", \"2019-03-14\"], \"type\": \"histogram\", \"uid\": \"cdffe639-7394-47f9-a5b1-6580c55f02aa\"}, {\"name\": \"Transfer Out\", \"x\": [\"2019-03-08\"], \"type\": \"histogram\", \"uid\": \"2f691e40-8c4d-421c-8235-62ac1a703846\"}], {\"barmode\": \"stack\"}, {\"showLink\": false, \"linkText\": \"Export to plot.ly\", \"plotlyServerURL\": \"https://plot.ly\"}); \n",
       "}\n",
       "});</script><script type=\"text/javascript\">window.addEventListener(\"resize\", function(){if (document.getElementById(\"f811835d-bd53-49a0-9a3d-2387ea0cafbd\")) {window._Plotly.Plots.resize(document.getElementById(\"f811835d-bd53-49a0-9a3d-2387ea0cafbd\"));};})</script>"
      ]
     },
     "metadata": {},
     "output_type": "display_data"
    }
   ],
   "source": [
    "traces = [go.Histogram(x=df[df['Outcome']==outcome]['Intake Date'], name=outcome.title()) for outcome in list(df['Outcome'].value_counts().keys())]\n",
    "fig = go.Figure(data=traces, layout=go.Layout(barmode='stack'))\n",
    "iplot(fig, filename='basic histogram')"
   ]
  },
  {
   "cell_type": "code",
   "execution_count": 84,
   "metadata": {},
   "outputs": [
    {
     "name": "stdout",
     "output_type": "stream",
     "text": [
      "MultiIndex(levels=[['Cat', 'Dog'], ['Adult (6 months to 12 years)', 'Neonatal (less than 6 weeks)', 'Puppies/Kittens (6 weeks to 6 months)', 'Senior (12 years and older)']],\n",
      "           codes=[[0, 0, 0, 0, 1, 1, 1], [0, 1, 2, 3, 0, 1, 2]],\n",
      "           names=['Species', 'Group'])\n",
      "['Cat', 'Dog']\n",
      "['Adult (6 months to 12 years)', 'Neonatal (less than 6 weeks)', 'Puppies/Kittens (6 weeks to 6 months)', 'Senior (12 years and older)']\n",
      "Species  Group                                \n",
      "Cat      Adult (6 months to 12 years)              2\n",
      "         Neonatal (less than 6 weeks)              2\n",
      "         Puppies/Kittens (6 weeks to 6 months)     2\n",
      "         Senior (12 years and older)               1\n",
      "Dog      Adult (6 months to 12 years)             11\n",
      "         Neonatal (less than 6 weeks)              4\n",
      "         Puppies/Kittens (6 weeks to 6 months)     5\n",
      "Name: Group, dtype: int64\n",
      "Species  Group                                \n",
      "Cat      Adult (6 months to 12 years)              2\n",
      "         Neonatal (less than 6 weeks)              2\n",
      "         Puppies/Kittens (6 weeks to 6 months)     2\n",
      "         Senior (12 years and older)               1\n",
      "Dog      Adult (6 months to 12 years)             11\n",
      "         Neonatal (less than 6 weeks)              4\n",
      "         Puppies/Kittens (6 weeks to 6 months)     5\n",
      "Name: Group, dtype: int64\n"
     ]
    }
   ],
   "source": [
    "vals = df.groupby('Species')['Group'].value_counts().sort_index()\n",
    "print(vals.keys())\n",
    "row_labels, col_labels = [x.tolist() for x in vals.keys().levels]\n",
    "print(row_labels)\n",
    "print(col_labels)\n",
    "z = vals\n",
    "print(z)\n",
    "print(vals)"
   ]
  },
  {
   "cell_type": "code",
   "execution_count": 87,
   "metadata": {},
   "outputs": [
    {
     "name": "stdout",
     "output_type": "stream",
     "text": [
      "[[ 2.  2.  2.  1.]\n",
      " [11.  4.  5.  0.]]\n",
      "['Cat', 'Dog']\n",
      "['Adult (6 months to 12 years)', 'Neonatal (less than 6 weeks)', 'Puppies/Kittens (6 weeks to 6 months)', 'Senior (12 years and older)']\n"
     ]
    }
   ],
   "source": [
    "vals = df.groupby('Species')['Group'].value_counts().sort_index()\n",
    "row_labels, col_labels = [x.tolist() for x in vals.keys().levels]\n",
    "z = np.array(df.groupby(['Species','Group']).size().to_frame('count').reset_index().merge(\n",
    "       pd.DataFrame(list(set([i for i in product(*[df.Group, df.Species])])), columns=['Group', 'Species']),\n",
    "       on=['Species', 'Group'],\n",
    "       how='right').fillna(value=0)['count']).reshape(2, 4)\n",
    "print(z)\n",
    "print(row_labels)\n",
    "print(col_labels)"
   ]
  },
  {
   "cell_type": "code",
   "execution_count": 30,
   "metadata": {},
   "outputs": [
    {
     "name": "stdout",
     "output_type": "stream",
     "text": [
      "This is the format of your plot grid:\n",
      "[ (1,1) x1,y1 ]  [ (1,2) x2,y2 ]\n",
      "\n"
     ]
    },
    {
     "data": {
      "application/vnd.plotly.v1+json": {
       "config": {
        "linkText": "Export to plot.ly",
        "plotlyServerURL": "https://plot.ly",
        "showLink": false
       },
       "data": [
        {
         "type": "histogram",
         "uid": "330c7b63-3b28-40e4-a57a-df4bc6151435",
         "x": [
          "Small (under 35lbs for dogs)",
          "Small (under 35lbs for dogs)",
          "Small (under 35lbs for dogs)",
          "Small (under 35lbs for dogs)",
          "Small (under 35lbs for dogs)",
          "Large (over 35lbs for dogs)",
          "Large (over 35lbs for dogs)",
          "Large (over 35lbs for dogs)",
          "Large (over 35lbs for dogs)",
          "Large (over 35lbs for dogs)",
          "Large (over 35lbs for dogs)",
          "Large (over 35lbs for dogs)",
          "Large (over 35lbs for dogs)",
          "Large (over 35lbs for dogs)",
          "Large (over 35lbs for dogs)",
          "Small (under 35lbs for dogs)",
          "Small (under 35lbs for dogs)",
          "Small (under 35lbs for dogs)",
          "Small (under 35lbs for dogs)",
          "Small (under 35lbs for dogs)"
         ],
         "xaxis": "x",
         "yaxis": "y"
        },
        {
         "colorscale": "Viridis",
         "type": "heatmap",
         "uid": "1d201792-b4b7-4d0d-92fe-e188ff34cf38",
         "x": [
          "Adult (6 months to 12 years)",
          "Neonatal (less than 6 weeks)",
          "Puppies/Kittens (6 weeks to 6 months)",
          "Senior (12 years and older)"
         ],
         "xaxis": "x2",
         "y": [
          "Cat",
          "Dog"
         ],
         "yaxis": "y2",
         "z": [
          [
           2,
           2,
           2,
           1
          ],
          [
           11,
           4,
           5,
           0
          ]
         ]
        }
       ],
       "layout": {
        "annotations": [
         {
          "font": {
           "size": 16
          },
          "showarrow": false,
          "text": "Adult Dog Sizes",
          "x": 0.225,
          "xanchor": "center",
          "xref": "paper",
          "y": 1,
          "yanchor": "bottom",
          "yref": "paper"
         },
         {
          "font": {
           "size": 16
          },
          "showarrow": false,
          "text": "Population Totals",
          "x": 0.775,
          "xanchor": "center",
          "xref": "paper",
          "y": 1,
          "yanchor": "bottom",
          "yref": "paper"
         }
        ],
        "xaxis": {
         "anchor": "y",
         "domain": [
          0,
          0.45
         ]
        },
        "xaxis2": {
         "anchor": "y2",
         "domain": [
          0.55,
          1
         ]
        },
        "yaxis": {
         "anchor": "x",
         "domain": [
          0,
          1
         ]
        },
        "yaxis2": {
         "anchor": "x2",
         "domain": [
          0,
          1
         ]
        }
       }
      },
      "text/html": [
       "<div id=\"b455b91c-3d09-43fd-9819-a7d0792641f6\" style=\"height: 525px; width: 100%;\" class=\"plotly-graph-div\"></div><script type=\"text/javascript\">require([\"plotly\"], function(Plotly) { window.PLOTLYENV=window.PLOTLYENV || {};window.PLOTLYENV.BASE_URL=\"https://plot.ly\";\n",
       "if (document.getElementById(\"b455b91c-3d09-43fd-9819-a7d0792641f6\")) {\n",
       "    Plotly.newPlot(\"b455b91c-3d09-43fd-9819-a7d0792641f6\", [{\"x\": [\"Small (under 35lbs for dogs)\", \"Small (under 35lbs for dogs)\", \"Small (under 35lbs for dogs)\", \"Small (under 35lbs for dogs)\", \"Small (under 35lbs for dogs)\", \"Large (over 35lbs for dogs)\", \"Large (over 35lbs for dogs)\", \"Large (over 35lbs for dogs)\", \"Large (over 35lbs for dogs)\", \"Large (over 35lbs for dogs)\", \"Large (over 35lbs for dogs)\", \"Large (over 35lbs for dogs)\", \"Large (over 35lbs for dogs)\", \"Large (over 35lbs for dogs)\", \"Large (over 35lbs for dogs)\", \"Small (under 35lbs for dogs)\", \"Small (under 35lbs for dogs)\", \"Small (under 35lbs for dogs)\", \"Small (under 35lbs for dogs)\", \"Small (under 35lbs for dogs)\"], \"type\": \"histogram\", \"uid\": \"330c7b63-3b28-40e4-a57a-df4bc6151435\", \"xaxis\": \"x\", \"yaxis\": \"y\"}, {\"colorscale\": \"Viridis\", \"x\": [\"Adult (6 months to 12 years)\", \"Neonatal (less than 6 weeks)\", \"Puppies/Kittens (6 weeks to 6 months)\", \"Senior (12 years and older)\"], \"y\": [\"Cat\", \"Dog\"], \"z\": [[2.0, 2.0, 2.0, 1.0], [11.0, 4.0, 5.0, 0.0]], \"type\": \"heatmap\", \"uid\": \"1d201792-b4b7-4d0d-92fe-e188ff34cf38\", \"xaxis\": \"x2\", \"yaxis\": \"y2\"}], {\"annotations\": [{\"font\": {\"size\": 16}, \"showarrow\": false, \"text\": \"Adult Dog Sizes\", \"x\": 0.225, \"xanchor\": \"center\", \"xref\": \"paper\", \"y\": 1.0, \"yanchor\": \"bottom\", \"yref\": \"paper\"}, {\"font\": {\"size\": 16}, \"showarrow\": false, \"text\": \"Population Totals\", \"x\": 0.775, \"xanchor\": \"center\", \"xref\": \"paper\", \"y\": 1.0, \"yanchor\": \"bottom\", \"yref\": \"paper\"}], \"xaxis\": {\"anchor\": \"y\", \"domain\": [0.0, 0.45]}, \"yaxis\": {\"anchor\": \"x\", \"domain\": [0.0, 1.0]}, \"xaxis2\": {\"anchor\": \"y2\", \"domain\": [0.55, 1.0]}, \"yaxis2\": {\"anchor\": \"x2\", \"domain\": [0.0, 1.0]}}, {\"showLink\": false, \"linkText\": \"Export to plot.ly\", \"plotlyServerURL\": \"https://plot.ly\"}); \n",
       "}\n",
       "});</script><script type=\"text/javascript\">window.addEventListener(\"resize\", function(){if (document.getElementById(\"b455b91c-3d09-43fd-9819-a7d0792641f6\")) {window._Plotly.Plots.resize(document.getElementById(\"b455b91c-3d09-43fd-9819-a7d0792641f6\"));};})</script>"
      ],
      "text/vnd.plotly.v1+html": [
       "<div id=\"b455b91c-3d09-43fd-9819-a7d0792641f6\" style=\"height: 525px; width: 100%;\" class=\"plotly-graph-div\"></div><script type=\"text/javascript\">require([\"plotly\"], function(Plotly) { window.PLOTLYENV=window.PLOTLYENV || {};window.PLOTLYENV.BASE_URL=\"https://plot.ly\";\n",
       "if (document.getElementById(\"b455b91c-3d09-43fd-9819-a7d0792641f6\")) {\n",
       "    Plotly.newPlot(\"b455b91c-3d09-43fd-9819-a7d0792641f6\", [{\"x\": [\"Small (under 35lbs for dogs)\", \"Small (under 35lbs for dogs)\", \"Small (under 35lbs for dogs)\", \"Small (under 35lbs for dogs)\", \"Small (under 35lbs for dogs)\", \"Large (over 35lbs for dogs)\", \"Large (over 35lbs for dogs)\", \"Large (over 35lbs for dogs)\", \"Large (over 35lbs for dogs)\", \"Large (over 35lbs for dogs)\", \"Large (over 35lbs for dogs)\", \"Large (over 35lbs for dogs)\", \"Large (over 35lbs for dogs)\", \"Large (over 35lbs for dogs)\", \"Large (over 35lbs for dogs)\", \"Small (under 35lbs for dogs)\", \"Small (under 35lbs for dogs)\", \"Small (under 35lbs for dogs)\", \"Small (under 35lbs for dogs)\", \"Small (under 35lbs for dogs)\"], \"type\": \"histogram\", \"uid\": \"330c7b63-3b28-40e4-a57a-df4bc6151435\", \"xaxis\": \"x\", \"yaxis\": \"y\"}, {\"colorscale\": \"Viridis\", \"x\": [\"Adult (6 months to 12 years)\", \"Neonatal (less than 6 weeks)\", \"Puppies/Kittens (6 weeks to 6 months)\", \"Senior (12 years and older)\"], \"y\": [\"Cat\", \"Dog\"], \"z\": [[2.0, 2.0, 2.0, 1.0], [11.0, 4.0, 5.0, 0.0]], \"type\": \"heatmap\", \"uid\": \"1d201792-b4b7-4d0d-92fe-e188ff34cf38\", \"xaxis\": \"x2\", \"yaxis\": \"y2\"}], {\"annotations\": [{\"font\": {\"size\": 16}, \"showarrow\": false, \"text\": \"Adult Dog Sizes\", \"x\": 0.225, \"xanchor\": \"center\", \"xref\": \"paper\", \"y\": 1.0, \"yanchor\": \"bottom\", \"yref\": \"paper\"}, {\"font\": {\"size\": 16}, \"showarrow\": false, \"text\": \"Population Totals\", \"x\": 0.775, \"xanchor\": \"center\", \"xref\": \"paper\", \"y\": 1.0, \"yanchor\": \"bottom\", \"yref\": \"paper\"}], \"xaxis\": {\"anchor\": \"y\", \"domain\": [0.0, 0.45]}, \"yaxis\": {\"anchor\": \"x\", \"domain\": [0.0, 1.0]}, \"xaxis2\": {\"anchor\": \"y2\", \"domain\": [0.55, 1.0]}, \"yaxis2\": {\"anchor\": \"x2\", \"domain\": [0.0, 1.0]}}, {\"showLink\": false, \"linkText\": \"Export to plot.ly\", \"plotlyServerURL\": \"https://plot.ly\"}); \n",
       "}\n",
       "});</script><script type=\"text/javascript\">window.addEventListener(\"resize\", function(){if (document.getElementById(\"b455b91c-3d09-43fd-9819-a7d0792641f6\")) {window._Plotly.Plots.resize(document.getElementById(\"b455b91c-3d09-43fd-9819-a7d0792641f6\"));};})</script>"
      ]
     },
     "metadata": {},
     "output_type": "display_data"
    }
   ],
   "source": [
    "from plotly import tools\n",
    "from itertools import product\n",
    "import numpy as np\n",
    "vals = df.groupby('Species')['Group'].value_counts().sort_index()\n",
    "row_labels, col_labels = [x.tolist() for x in vals.keys().levels]\n",
    "z = np.array(df.groupby(['Species','Group']).size().to_frame('count').reset_index().merge(\n",
    "       pd.DataFrame(list(set([i for i in product(*[df.Group, df.Species])])), columns=['Group', 'Species']),\n",
    "       on=['Species', 'Group'],\n",
    "       how='right').fillna(value=0)['count']).reshape(2, 4)\n",
    "heatmap = go.Heatmap(z=z, x=col_labels, y=row_labels, colorscale='Viridis')\n",
    "hist = go.Histogram(x=df[df['Species'] == 'Dog']['Size'])\n",
    "fig = tools.make_subplots(rows=1, cols=2, subplot_titles=('Adult Dog Sizes', 'Population Totals'))\n",
    "fig.append_trace(hist, 1, 1)\n",
    "fig.append_trace(heatmap, 1, 2)\n",
    "iplot(fig)"
   ]
  },
  {
   "cell_type": "code",
   "execution_count": 74,
   "metadata": {},
   "outputs": [
    {
     "data": {
      "text/plain": [
       "array(['2019-03-05', '2019-03-06', '2019-03-07', '2019-03-08',\n",
       "       '2019-03-09', '2019-03-10', '2019-03-11', '2019-03-12',\n",
       "       '2019-03-13', '2019-03-14'], dtype=object)"
      ]
     },
     "execution_count": 74,
     "metadata": {},
     "output_type": "execute_result"
    }
   ],
   "source": [
    "df['Intake Date'].unique()"
   ]
  },
  {
   "cell_type": "code",
   "execution_count": 79,
   "metadata": {},
   "outputs": [
    {
     "name": "stdout",
     "output_type": "stream",
     "text": [
      "16\n",
      "[[2 2 2 2 2]\n",
      " [1 1 1 1 1]\n",
      " [2 2 2 2 2]\n",
      " [2 2 2 2 2]\n",
      " [2 2 2 2 2]\n",
      " [1 1 1 1 1]\n",
      " [1 1 1 1 1]\n",
      " [2 2 2 2 2]\n",
      " [1 1 1 1 1]\n",
      " [1 1 1 1 1]\n",
      " [1 1 1 1 1]\n",
      " [6 6 6 6 6]\n",
      " [1 1 1 1 1]\n",
      " [1 1 1 1 1]\n",
      " [1 1 1 1 1]\n",
      " [2 2 2 2 2]]\n"
     ]
    }
   ],
   "source": [
    "from plotly import tools\n",
    "\n",
    "#print(vals.keys().levels)\n",
    "\n",
    "#row_labels, col_labels = [x.tolist() for x in vals.keys().levels]\n",
    "#z = vals.values.reshape(2, 4)\n",
    "#heatmap = go.Heatmap(z=z, x=col_labels, y=row_labels, colorscale='Viridis')\n",
    "print(len(vals))\n",
    "print(vals.values)\n",
    "print(np.meshgrid(x, y, z, sparse=True))"
   ]
  },
  {
   "cell_type": "code",
   "execution_count": 31,
   "metadata": {},
   "outputs": [
    {
     "data": {
      "text/plain": [
       "array([0.        , 0.02040816, 0.04081633, 0.06122449, 0.08163265,\n",
       "       0.10204082, 0.12244898, 0.14285714, 0.16326531, 0.18367347,\n",
       "       0.20408163, 0.2244898 , 0.24489796, 0.26530612, 0.28571429,\n",
       "       0.30612245, 0.32653061, 0.34693878, 0.36734694, 0.3877551 ,\n",
       "       0.40816327, 0.42857143, 0.44897959, 0.46938776, 0.48979592,\n",
       "       0.51020408, 0.53061224, 0.55102041, 0.57142857, 0.59183673,\n",
       "       0.6122449 , 0.63265306, 0.65306122, 0.67346939, 0.69387755,\n",
       "       0.71428571, 0.73469388, 0.75510204, 0.7755102 , 0.79591837,\n",
       "       0.81632653, 0.83673469, 0.85714286, 0.87755102, 0.89795918,\n",
       "       0.91836735, 0.93877551, 0.95918367, 0.97959184, 1.        ])"
      ]
     },
     "execution_count": 31,
     "metadata": {},
     "output_type": "execute_result"
    }
   ],
   "source": [
    "np.linspace(0, 1)"
   ]
  },
  {
   "cell_type": "code",
   "execution_count": 76,
   "metadata": {},
   "outputs": [
    {
     "name": "stdout",
     "output_type": "stream",
     "text": [
      "[('Kittens', '1208'), ('Cats', '1017'), ('Puppies', '1335'), ('Dogs', '2183')]\n",
      "\n",
      "<style>\n",
      ".card {\n",
      "    word-wrap: break-word;\n",
      "}\n",
      "*, ::before, ::after {\n",
      "    box-sizing: border-box;\n",
      "}\n",
      ".card {\n",
      "    position: relative;\n",
      "    display: flex;\n",
      "    flex-direction: column;\n",
      "    min-width: 0;\n",
      "    word-wrap: break-word;\n",
      "    background-color: #fff;\n",
      "    background-clip: border-box;\n",
      "    border: 1px solid rgba(0, 0, 0, 0.125);\n",
      "    border-radius: 0.25rem;\n",
      "}\n",
      ".card-header:first-child {\n",
      "    border-radius: calc(0.25rem - 1px) calc(0.25rem - 1px) 0 0;\n",
      "}\n",
      ".card-header {\n",
      "    padding: 0.75rem 1.25rem;\n",
      "    margin-bottom: 0;\n",
      "    color: inherit;\n",
      "    background-color: rgba(0, 0, 0, 0.03);\n",
      "    border-bottom: 1px solid rgba(0, 0, 0, 0.125);\n",
      "}\n",
      ".card-body {\n",
      "    flex: 1 1 auto;\n",
      "    padding: 1.25rem;\n",
      "}\n",
      ".lead {\n",
      "    font-size: 1.125rem;\n",
      "    font-weight: 300;\n",
      "}\n",
      ".table {\n",
      "    width: 100%;\n",
      "    margin-bottom: 1rem;\n",
      "    background-color: transparent;\n",
      "}\n",
      "table {\n",
      "    border-collapse: collapse;\n",
      "}\n",
      "th {\n",
      "    font-weight: 400;\n",
      "}\n",
      ".table {\n",
      "    width: 100%;\n",
      "    margin-bottom: 1rem;\n",
      "    background-color: transparent;\n",
      "}\n",
      ".table-striped tbody tr:nth-of-type(2n+1) {\n",
      "    background-color: rgba(0, 0, 0, 0.05);\n",
      "}\n",
      ".table th, .table td {\n",
      "    padding: 0.75rem;\n",
      "    vertical-align: top;\n",
      "    border-top: 1px solid #dee2e6;\n",
      "}  color: #38c172 !important;\n",
      "}\n",
      "tr {\n",
      "    border-bottom: 0px solid #eee;\n",
      "}\n",
      "</style>\n",
      "<table class=\"table striped\">  <tr><td>Kittens    </td><td>1208  </td></tr>  <tr><td>Cats    </td><td>1017  </td></tr>  <tr><td>Puppies    </td><td>1335  </td></tr>  <tr><td>Dogs    </td><td>2183  </td></tr></table>\n"
     ]
    }
   ],
   "source": [
    "from IPython.core.display import HTML\n",
    "\n",
    "data = list(zip([\"Kittens\", \"Cats\", \"Puppies\", \"Dogs\", \"Other\"], [\"1208\", \"1017\", \"1335\", \"2183\"]))\n",
    "print(data)\n",
    "\n",
    "style = \"\"\"\n",
    "<style>\n",
    ".card {\n",
    "    word-wrap: break-word;\n",
    "}\n",
    "*, ::before, ::after {\n",
    "    box-sizing: border-box;\n",
    "}\n",
    ".card {\n",
    "    position: relative;\n",
    "    display: flex;\n",
    "    flex-direction: column;\n",
    "    min-width: 0;\n",
    "    word-wrap: break-word;\n",
    "    background-color: #fff;\n",
    "    background-clip: border-box;\n",
    "    border: 1px solid rgba(0, 0, 0, 0.125);\n",
    "    border-radius: 0.25rem;\n",
    "}\n",
    ".card-header:first-child {\n",
    "    border-radius: calc(0.25rem - 1px) calc(0.25rem - 1px) 0 0;\n",
    "}\n",
    ".card-header {\n",
    "    padding: 0.75rem 1.25rem;\n",
    "    margin-bottom: 0;\n",
    "    color: inherit;\n",
    "    background-color: rgba(0, 0, 0, 0.03);\n",
    "    border-bottom: 1px solid rgba(0, 0, 0, 0.125);\n",
    "}\n",
    ".card-body {\n",
    "    flex: 1 1 auto;\n",
    "    padding: 1.25rem;\n",
    "}\n",
    ".lead {\n",
    "    font-size: 1.125rem;\n",
    "    font-weight: 300;\n",
    "}\n",
    ".table {\n",
    "    width: 100%;\n",
    "    margin-bottom: 1rem;\n",
    "    background-color: transparent;\n",
    "}\n",
    "table {\n",
    "    border-collapse: collapse;\n",
    "}\n",
    "th {\n",
    "    font-weight: 400;\n",
    "}\n",
    ".table {\n",
    "    width: 100%;\n",
    "    margin-bottom: 1rem;\n",
    "    background-color: transparent;\n",
    "}\n",
    ".table-striped tbody tr:nth-of-type(2n+1) {\n",
    "    background-color: rgba(0, 0, 0, 0.05);\n",
    "}\n",
    ".table th, .table td {\n",
    "    padding: 0.75rem;\n",
    "    vertical-align: top;\n",
    "    border-top: 1px solid #dee2e6;\n",
    "}  color: #38c172 !important;\n",
    "}\n",
    "tr {\n",
    "    border-bottom: 0px solid #eee;\n",
    "}\n",
    "</style>\n",
    "\"\"\"\n",
    "html = style+html_table(data)\n",
    "print(html)\n",
    "HTML(html)\n",
    "with open('test.htm', 'w') as fp:\n",
    "    fp.write(html)\n",
    "#HTML(df.style.set_properties(**{'background-color': 'transparent',\n",
    "#                           'border-color': 'grey',\n",
    "#                           'border-spacing': '2px',\n",
    "#                           'margin-bottom': '1rem',\n",
    "#                           'border-collapse': 'collapse',\n",
    "#                           'margin': '0 0 1.5em',\n",
    "#                           'box-sizing': 'border-box',\n",
    "#                           'font-size': '1rem',\n",
    "#                           'color': '#333',\n",
    "#                           'line-height': '1.5'}).render())"
   ]
  },
  {
   "cell_type": "code",
   "execution_count": 58,
   "metadata": {},
   "outputs": [
    {
     "data": {
      "text/plain": [
       "[['Kittens', 'Cats', 'Puppies', 'Dogs', 'Other'], [1208, 1017, 1335, 2183]]"
      ]
     },
     "execution_count": 58,
     "metadata": {},
     "output_type": "execute_result"
    }
   ],
   "source": [
    "data"
   ]
  },
  {
   "cell_type": "code",
   "execution_count": 88,
   "metadata": {},
   "outputs": [
    {
     "data": {
      "text/html": [
       "<div>\n",
       "<style scoped>\n",
       "    .dataframe tbody tr th:only-of-type {\n",
       "        vertical-align: middle;\n",
       "    }\n",
       "\n",
       "    .dataframe tbody tr th {\n",
       "        vertical-align: top;\n",
       "    }\n",
       "\n",
       "    .dataframe thead th {\n",
       "        text-align: right;\n",
       "    }\n",
       "</style>\n",
       "<table border=\"1\" class=\"dataframe\">\n",
       "  <thead>\n",
       "    <tr style=\"text-align: right;\">\n",
       "      <th></th>\n",
       "      <th>Intake Date</th>\n",
       "      <th>Source</th>\n",
       "      <th>Species</th>\n",
       "      <th>Group</th>\n",
       "      <th>Size</th>\n",
       "      <th>Outcome</th>\n",
       "      <th>Cause of Death (if applicable)</th>\n",
       "      <th>Housing Need</th>\n",
       "    </tr>\n",
       "  </thead>\n",
       "  <tbody>\n",
       "    <tr>\n",
       "      <th>0</th>\n",
       "      <td>2019-03-05</td>\n",
       "      <td>From Field</td>\n",
       "      <td>Dog</td>\n",
       "      <td>Neonatal (less than 6 weeks)</td>\n",
       "      <td>Small (under 35lbs for dogs)</td>\n",
       "      <td>Adoption</td>\n",
       "      <td>Did Not Die</td>\n",
       "      <td>Co-Housing</td>\n",
       "    </tr>\n",
       "    <tr>\n",
       "      <th>1</th>\n",
       "      <td>2019-03-06</td>\n",
       "      <td>From Field</td>\n",
       "      <td>Dog</td>\n",
       "      <td>Neonatal (less than 6 weeks)</td>\n",
       "      <td>Small (under 35lbs for dogs)</td>\n",
       "      <td>Adoption</td>\n",
       "      <td>Did Not Die</td>\n",
       "      <td>Co-Housing</td>\n",
       "    </tr>\n",
       "    <tr>\n",
       "      <th>2</th>\n",
       "      <td>2019-03-05</td>\n",
       "      <td>Over Counter</td>\n",
       "      <td>Dog</td>\n",
       "      <td>Neonatal (less than 6 weeks)</td>\n",
       "      <td>Small (under 35lbs for dogs)</td>\n",
       "      <td>Adoption</td>\n",
       "      <td>Did Not Die</td>\n",
       "      <td>Co-Housing</td>\n",
       "    </tr>\n",
       "    <tr>\n",
       "      <th>3</th>\n",
       "      <td>2019-03-07</td>\n",
       "      <td>Over Counter</td>\n",
       "      <td>Dog</td>\n",
       "      <td>Neonatal (less than 6 weeks)</td>\n",
       "      <td>Small (under 35lbs for dogs)</td>\n",
       "      <td>Adoption</td>\n",
       "      <td>Did Not Die</td>\n",
       "      <td>Co-Housing</td>\n",
       "    </tr>\n",
       "    <tr>\n",
       "      <th>4</th>\n",
       "      <td>2019-03-05</td>\n",
       "      <td>From Field</td>\n",
       "      <td>Dog</td>\n",
       "      <td>Puppies/Kittens (6 weeks to 6 months)</td>\n",
       "      <td>Small (under 35lbs for dogs)</td>\n",
       "      <td>Return to Owner</td>\n",
       "      <td>Did Not Die</td>\n",
       "      <td>Co-Housing</td>\n",
       "    </tr>\n",
       "    <tr>\n",
       "      <th>5</th>\n",
       "      <td>2019-03-08</td>\n",
       "      <td>From Field</td>\n",
       "      <td>Dog</td>\n",
       "      <td>Adult (6 months to 12 years)</td>\n",
       "      <td>Large (over 35lbs for dogs)</td>\n",
       "      <td>Return to Owner</td>\n",
       "      <td>Did Not Die</td>\n",
       "      <td>Single Unit Housing</td>\n",
       "    </tr>\n",
       "    <tr>\n",
       "      <th>6</th>\n",
       "      <td>2019-03-08</td>\n",
       "      <td>From Field</td>\n",
       "      <td>Dog</td>\n",
       "      <td>Adult (6 months to 12 years)</td>\n",
       "      <td>Large (over 35lbs for dogs)</td>\n",
       "      <td>Transfer Out</td>\n",
       "      <td>Did Not Die</td>\n",
       "      <td>Single Unit Housing</td>\n",
       "    </tr>\n",
       "    <tr>\n",
       "      <th>7</th>\n",
       "      <td>2019-03-09</td>\n",
       "      <td>Over Counter</td>\n",
       "      <td>Dog</td>\n",
       "      <td>Adult (6 months to 12 years)</td>\n",
       "      <td>Large (over 35lbs for dogs)</td>\n",
       "      <td>Death/Euthanized</td>\n",
       "      <td>Behavior (Including Fractious/Feral)</td>\n",
       "      <td>Single Unit Housing</td>\n",
       "    </tr>\n",
       "    <tr>\n",
       "      <th>8</th>\n",
       "      <td>2019-03-10</td>\n",
       "      <td>From Field</td>\n",
       "      <td>Dog</td>\n",
       "      <td>Puppies/Kittens (6 weeks to 6 months)</td>\n",
       "      <td>Large (over 35lbs for dogs)</td>\n",
       "      <td>Adoption</td>\n",
       "      <td>Did Not Die</td>\n",
       "      <td>Single Unit Housing</td>\n",
       "    </tr>\n",
       "    <tr>\n",
       "      <th>9</th>\n",
       "      <td>2019-03-11</td>\n",
       "      <td>From Field</td>\n",
       "      <td>Dog</td>\n",
       "      <td>Puppies/Kittens (6 weeks to 6 months)</td>\n",
       "      <td>Large (over 35lbs for dogs)</td>\n",
       "      <td>Adoption</td>\n",
       "      <td>Did Not Die</td>\n",
       "      <td>Single Unit Housing</td>\n",
       "    </tr>\n",
       "    <tr>\n",
       "      <th>10</th>\n",
       "      <td>2019-03-12</td>\n",
       "      <td>From Field</td>\n",
       "      <td>Dog</td>\n",
       "      <td>Adult (6 months to 12 years)</td>\n",
       "      <td>Large (over 35lbs for dogs)</td>\n",
       "      <td>Adoption</td>\n",
       "      <td>Did Not Die</td>\n",
       "      <td>Single Unit Housing</td>\n",
       "    </tr>\n",
       "    <tr>\n",
       "      <th>11</th>\n",
       "      <td>2019-03-13</td>\n",
       "      <td>Over Counter</td>\n",
       "      <td>Dog</td>\n",
       "      <td>Adult (6 months to 12 years)</td>\n",
       "      <td>Large (over 35lbs for dogs)</td>\n",
       "      <td>Adoption</td>\n",
       "      <td>Did Not Die</td>\n",
       "      <td>Single Unit Housing</td>\n",
       "    </tr>\n",
       "    <tr>\n",
       "      <th>12</th>\n",
       "      <td>2019-03-14</td>\n",
       "      <td>Over Counter</td>\n",
       "      <td>Dog</td>\n",
       "      <td>Adult (6 months to 12 years)</td>\n",
       "      <td>Large (over 35lbs for dogs)</td>\n",
       "      <td>Return to Owner</td>\n",
       "      <td>Did Not Die</td>\n",
       "      <td>Single Unit Housing</td>\n",
       "    </tr>\n",
       "    <tr>\n",
       "      <th>13</th>\n",
       "      <td>2019-03-14</td>\n",
       "      <td>Over Counter</td>\n",
       "      <td>Dog</td>\n",
       "      <td>Adult (6 months to 12 years)</td>\n",
       "      <td>Large (over 35lbs for dogs)</td>\n",
       "      <td>Death/Euthanized</td>\n",
       "      <td>Medical - Parvo</td>\n",
       "      <td>Single Unit Housing</td>\n",
       "    </tr>\n",
       "    <tr>\n",
       "      <th>14</th>\n",
       "      <td>2019-03-14</td>\n",
       "      <td>From Field</td>\n",
       "      <td>Cat</td>\n",
       "      <td>Puppies/Kittens (6 weeks to 6 months)</td>\n",
       "      <td>N/A</td>\n",
       "      <td>Death/Euthanized</td>\n",
       "      <td>Medical - Parvo</td>\n",
       "      <td>None/Not Applicable</td>\n",
       "    </tr>\n",
       "    <tr>\n",
       "      <th>15</th>\n",
       "      <td>2019-03-14</td>\n",
       "      <td>Over Counter</td>\n",
       "      <td>Cat</td>\n",
       "      <td>Puppies/Kittens (6 weeks to 6 months)</td>\n",
       "      <td>N/A</td>\n",
       "      <td>Adoption</td>\n",
       "      <td>Did Not Die</td>\n",
       "      <td>None/Not Applicable</td>\n",
       "    </tr>\n",
       "    <tr>\n",
       "      <th>16</th>\n",
       "      <td>2019-03-14</td>\n",
       "      <td>From Field</td>\n",
       "      <td>Dog</td>\n",
       "      <td>Adult (6 months to 12 years)</td>\n",
       "      <td>Large (over 35lbs for dogs)</td>\n",
       "      <td>Adoption</td>\n",
       "      <td>Did Not Die</td>\n",
       "      <td>Single Unit Housing</td>\n",
       "    </tr>\n",
       "    <tr>\n",
       "      <th>17</th>\n",
       "      <td>2019-03-14</td>\n",
       "      <td>Over Counter</td>\n",
       "      <td>Dog</td>\n",
       "      <td>Adult (6 months to 12 years)</td>\n",
       "      <td>Small (under 35lbs for dogs)</td>\n",
       "      <td>Adoption</td>\n",
       "      <td>Did Not Die</td>\n",
       "      <td>Co-Housing</td>\n",
       "    </tr>\n",
       "    <tr>\n",
       "      <th>18</th>\n",
       "      <td>2019-03-14</td>\n",
       "      <td>From Field</td>\n",
       "      <td>Dog</td>\n",
       "      <td>Adult (6 months to 12 years)</td>\n",
       "      <td>Small (under 35lbs for dogs)</td>\n",
       "      <td>Adoption</td>\n",
       "      <td>Did Not Die</td>\n",
       "      <td>Co-Housing</td>\n",
       "    </tr>\n",
       "    <tr>\n",
       "      <th>19</th>\n",
       "      <td>2019-03-14</td>\n",
       "      <td>From Field</td>\n",
       "      <td>Cat</td>\n",
       "      <td>Adult (6 months to 12 years)</td>\n",
       "      <td>N/A</td>\n",
       "      <td>Adoption</td>\n",
       "      <td>Did Not Die</td>\n",
       "      <td>None/Not Applicable</td>\n",
       "    </tr>\n",
       "    <tr>\n",
       "      <th>20</th>\n",
       "      <td>2019-03-14</td>\n",
       "      <td>Over Counter</td>\n",
       "      <td>Dog</td>\n",
       "      <td>Puppies/Kittens (6 weeks to 6 months)</td>\n",
       "      <td>Small (under 35lbs for dogs)</td>\n",
       "      <td>Adoption</td>\n",
       "      <td>Did Not Die</td>\n",
       "      <td>Co-Housing</td>\n",
       "    </tr>\n",
       "    <tr>\n",
       "      <th>21</th>\n",
       "      <td>2019-03-14</td>\n",
       "      <td>From Field</td>\n",
       "      <td>Dog</td>\n",
       "      <td>Puppies/Kittens (6 weeks to 6 months)</td>\n",
       "      <td>Small (under 35lbs for dogs)</td>\n",
       "      <td>Return to Owner</td>\n",
       "      <td>Did Not Die</td>\n",
       "      <td>Co-Housing</td>\n",
       "    </tr>\n",
       "    <tr>\n",
       "      <th>22</th>\n",
       "      <td>2019-03-14</td>\n",
       "      <td>From Field</td>\n",
       "      <td>Dog</td>\n",
       "      <td>Adult (6 months to 12 years)</td>\n",
       "      <td>Small (under 35lbs for dogs)</td>\n",
       "      <td>Death/Euthanized</td>\n",
       "      <td>Medical - Distemper</td>\n",
       "      <td>Single Unit Housing</td>\n",
       "    </tr>\n",
       "    <tr>\n",
       "      <th>23</th>\n",
       "      <td>2019-03-14</td>\n",
       "      <td>From Field</td>\n",
       "      <td>Cat</td>\n",
       "      <td>Adult (6 months to 12 years)</td>\n",
       "      <td>N/A</td>\n",
       "      <td>Adoption</td>\n",
       "      <td>Did Not Die</td>\n",
       "      <td>None/Not Applicable</td>\n",
       "    </tr>\n",
       "    <tr>\n",
       "      <th>24</th>\n",
       "      <td>2019-03-14</td>\n",
       "      <td>From Field</td>\n",
       "      <td>Cat</td>\n",
       "      <td>Neonatal (less than 6 weeks)</td>\n",
       "      <td>N/A</td>\n",
       "      <td>Death/Euthanized</td>\n",
       "      <td>Medical - Ringworm</td>\n",
       "      <td>None/Not Applicable</td>\n",
       "    </tr>\n",
       "    <tr>\n",
       "      <th>25</th>\n",
       "      <td>2019-03-14</td>\n",
       "      <td>From Field</td>\n",
       "      <td>Cat</td>\n",
       "      <td>Senior (12 years and older)</td>\n",
       "      <td>N/A</td>\n",
       "      <td>Adoption</td>\n",
       "      <td>Did Not Die</td>\n",
       "      <td>None/Not Applicable</td>\n",
       "    </tr>\n",
       "    <tr>\n",
       "      <th>26</th>\n",
       "      <td>2019-03-14</td>\n",
       "      <td>From Field</td>\n",
       "      <td>Cat</td>\n",
       "      <td>Neonatal (less than 6 weeks)</td>\n",
       "      <td>N/A</td>\n",
       "      <td>Adoption</td>\n",
       "      <td>Did Not Die</td>\n",
       "      <td>None/Not Applicable</td>\n",
       "    </tr>\n",
       "  </tbody>\n",
       "</table>\n",
       "</div>"
      ],
      "text/plain": [
       "   Intake Date        Source Species                                  Group  \\\n",
       "0   2019-03-05    From Field     Dog           Neonatal (less than 6 weeks)   \n",
       "1   2019-03-06    From Field     Dog           Neonatal (less than 6 weeks)   \n",
       "2   2019-03-05  Over Counter     Dog           Neonatal (less than 6 weeks)   \n",
       "3   2019-03-07  Over Counter     Dog           Neonatal (less than 6 weeks)   \n",
       "4   2019-03-05    From Field     Dog  Puppies/Kittens (6 weeks to 6 months)   \n",
       "5   2019-03-08    From Field     Dog           Adult (6 months to 12 years)   \n",
       "6   2019-03-08    From Field     Dog           Adult (6 months to 12 years)   \n",
       "7   2019-03-09  Over Counter     Dog           Adult (6 months to 12 years)   \n",
       "8   2019-03-10    From Field     Dog  Puppies/Kittens (6 weeks to 6 months)   \n",
       "9   2019-03-11    From Field     Dog  Puppies/Kittens (6 weeks to 6 months)   \n",
       "10  2019-03-12    From Field     Dog           Adult (6 months to 12 years)   \n",
       "11  2019-03-13  Over Counter     Dog           Adult (6 months to 12 years)   \n",
       "12  2019-03-14  Over Counter     Dog           Adult (6 months to 12 years)   \n",
       "13  2019-03-14  Over Counter     Dog           Adult (6 months to 12 years)   \n",
       "14  2019-03-14    From Field     Cat  Puppies/Kittens (6 weeks to 6 months)   \n",
       "15  2019-03-14  Over Counter     Cat  Puppies/Kittens (6 weeks to 6 months)   \n",
       "16  2019-03-14    From Field     Dog           Adult (6 months to 12 years)   \n",
       "17  2019-03-14  Over Counter     Dog           Adult (6 months to 12 years)   \n",
       "18  2019-03-14    From Field     Dog           Adult (6 months to 12 years)   \n",
       "19  2019-03-14    From Field     Cat           Adult (6 months to 12 years)   \n",
       "20  2019-03-14  Over Counter     Dog  Puppies/Kittens (6 weeks to 6 months)   \n",
       "21  2019-03-14    From Field     Dog  Puppies/Kittens (6 weeks to 6 months)   \n",
       "22  2019-03-14    From Field     Dog           Adult (6 months to 12 years)   \n",
       "23  2019-03-14    From Field     Cat           Adult (6 months to 12 years)   \n",
       "24  2019-03-14    From Field     Cat           Neonatal (less than 6 weeks)   \n",
       "25  2019-03-14    From Field     Cat            Senior (12 years and older)   \n",
       "26  2019-03-14    From Field     Cat           Neonatal (less than 6 weeks)   \n",
       "\n",
       "                            Size           Outcome  \\\n",
       "0   Small (under 35lbs for dogs)          Adoption   \n",
       "1   Small (under 35lbs for dogs)          Adoption   \n",
       "2   Small (under 35lbs for dogs)          Adoption   \n",
       "3   Small (under 35lbs for dogs)          Adoption   \n",
       "4   Small (under 35lbs for dogs)   Return to Owner   \n",
       "5    Large (over 35lbs for dogs)   Return to Owner   \n",
       "6    Large (over 35lbs for dogs)      Transfer Out   \n",
       "7    Large (over 35lbs for dogs)  Death/Euthanized   \n",
       "8    Large (over 35lbs for dogs)          Adoption   \n",
       "9    Large (over 35lbs for dogs)          Adoption   \n",
       "10   Large (over 35lbs for dogs)          Adoption   \n",
       "11   Large (over 35lbs for dogs)          Adoption   \n",
       "12   Large (over 35lbs for dogs)   Return to Owner   \n",
       "13   Large (over 35lbs for dogs)  Death/Euthanized   \n",
       "14                           N/A  Death/Euthanized   \n",
       "15                           N/A          Adoption   \n",
       "16   Large (over 35lbs for dogs)          Adoption   \n",
       "17  Small (under 35lbs for dogs)          Adoption   \n",
       "18  Small (under 35lbs for dogs)          Adoption   \n",
       "19                           N/A          Adoption   \n",
       "20  Small (under 35lbs for dogs)          Adoption   \n",
       "21  Small (under 35lbs for dogs)   Return to Owner   \n",
       "22  Small (under 35lbs for dogs)  Death/Euthanized   \n",
       "23                           N/A          Adoption   \n",
       "24                           N/A  Death/Euthanized   \n",
       "25                           N/A          Adoption   \n",
       "26                           N/A          Adoption   \n",
       "\n",
       "          Cause of Death (if applicable)         Housing Need  \n",
       "0                            Did Not Die           Co-Housing  \n",
       "1                            Did Not Die           Co-Housing  \n",
       "2                            Did Not Die           Co-Housing  \n",
       "3                            Did Not Die           Co-Housing  \n",
       "4                            Did Not Die           Co-Housing  \n",
       "5                            Did Not Die  Single Unit Housing  \n",
       "6                            Did Not Die  Single Unit Housing  \n",
       "7   Behavior (Including Fractious/Feral)  Single Unit Housing  \n",
       "8                            Did Not Die  Single Unit Housing  \n",
       "9                            Did Not Die  Single Unit Housing  \n",
       "10                           Did Not Die  Single Unit Housing  \n",
       "11                           Did Not Die  Single Unit Housing  \n",
       "12                           Did Not Die  Single Unit Housing  \n",
       "13                       Medical - Parvo  Single Unit Housing  \n",
       "14                       Medical - Parvo  None/Not Applicable  \n",
       "15                           Did Not Die  None/Not Applicable  \n",
       "16                           Did Not Die  Single Unit Housing  \n",
       "17                           Did Not Die           Co-Housing  \n",
       "18                           Did Not Die           Co-Housing  \n",
       "19                           Did Not Die  None/Not Applicable  \n",
       "20                           Did Not Die           Co-Housing  \n",
       "21                           Did Not Die           Co-Housing  \n",
       "22                   Medical - Distemper  Single Unit Housing  \n",
       "23                           Did Not Die  None/Not Applicable  \n",
       "24                    Medical - Ringworm  None/Not Applicable  \n",
       "25                           Did Not Die  None/Not Applicable  \n",
       "26                           Did Not Die  None/Not Applicable  "
      ]
     },
     "execution_count": 88,
     "metadata": {},
     "output_type": "execute_result"
    }
   ],
   "source": [
    "df"
   ]
  },
  {
   "cell_type": "code",
   "execution_count": 119,
   "metadata": {},
   "outputs": [],
   "source": [
    "#vals = df.groupby(['Species', 'Group'])['Outcome'].value_counts().sort_index()\n",
    "#row_labels, col_labels = [x.tolist() for x in vals.keys().levels]\n",
    "z = df.groupby(['Species', 'Group', 'Outcome']).size().to_frame('count').reset_index().merge(\n",
    "       pd.DataFrame(list(set([i for i in product(*[df.Outcome, df.Group, df.Species])])), columns=['Outcome', 'Group', 'Species']),\n",
    "       on=['Species', 'Group', 'Outcome'],\n",
    "       how='right').fillna(value=0)\n",
    "z['GroupLabel'] = z['Species'] + ', ' + z['Group']"
   ]
  },
  {
   "cell_type": "code",
   "execution_count": 140,
   "metadata": {},
   "outputs": [
    {
     "data": {
      "text/plain": [
       "['Adoption', 'Death/Euthanized', 'Return to Owner', 'Transfer Out']"
      ]
     },
     "execution_count": 140,
     "metadata": {},
     "output_type": "execute_result"
    }
   ],
   "source": [
    "grps = z.groupby(['GroupLabel', 'Outcome'])['count']\n",
    "stacks = {}\n",
    "labels = []\n",
    "for grp, val in grps:\n",
    "    if grp[1] not in labels:\n",
    "        labels.append(grp[1])\n",
    "    if grp[0] in stacks:\n",
    "        stacks[grp[0]].append(float(val))\n",
    "    else:\n",
    "        stacks[grp[0]] = [float(val)]\n",
    "labels"
   ]
  },
  {
   "cell_type": "code",
   "execution_count": 160,
   "metadata": {},
   "outputs": [
    {
     "data": {
      "application/vnd.plotly.v1+json": {
       "config": {
        "linkText": "Export to plot.ly",
        "plotlyServerURL": "https://plot.ly",
        "showLink": false
       },
       "data": [
        {
         "marker": {
          "color": "#8EB5CC"
         },
         "name": "Adoption",
         "type": "bar",
         "uid": "5af10905-336c-4b43-850e-de6583bd0b71",
         "x": [
          "Cat, Adult (6 months to 12 years)",
          "Cat, Neonatal (less than 6 weeks)",
          "Cat, Puppies/Kittens (6 weeks to 6 months)",
          "Cat, Senior (12 years and older)",
          "Dog, Adult (6 months to 12 years)",
          "Dog, Neonatal (less than 6 weeks)",
          "Dog, Puppies/Kittens (6 weeks to 6 months)",
          "Dog, Senior (12 years and older)"
         ],
         "y": [
          2,
          1,
          1,
          1,
          5,
          4,
          3,
          0
         ]
        },
        {
         "marker": {
          "color": "#963022"
         },
         "name": "Death/Euthanized",
         "type": "bar",
         "uid": "b223ddde-4968-44d6-bcd4-996c9e54633f",
         "x": [
          "Cat, Adult (6 months to 12 years)",
          "Cat, Neonatal (less than 6 weeks)",
          "Cat, Puppies/Kittens (6 weeks to 6 months)",
          "Cat, Senior (12 years and older)",
          "Dog, Adult (6 months to 12 years)",
          "Dog, Neonatal (less than 6 weeks)",
          "Dog, Puppies/Kittens (6 weeks to 6 months)",
          "Dog, Senior (12 years and older)"
         ],
         "y": [
          0,
          1,
          1,
          0,
          3,
          0,
          0,
          0
         ]
        },
        {
         "marker": {
          "color": "#7094AA"
         },
         "name": "Return to Owner",
         "type": "bar",
         "uid": "7ca3738c-1a91-4f6f-ac68-b86e0ad94baf",
         "x": [
          "Cat, Adult (6 months to 12 years)",
          "Cat, Neonatal (less than 6 weeks)",
          "Cat, Puppies/Kittens (6 weeks to 6 months)",
          "Cat, Senior (12 years and older)",
          "Dog, Adult (6 months to 12 years)",
          "Dog, Neonatal (less than 6 weeks)",
          "Dog, Puppies/Kittens (6 weeks to 6 months)",
          "Dog, Senior (12 years and older)"
         ],
         "y": [
          0,
          0,
          0,
          0,
          2,
          0,
          2,
          0
         ]
        },
        {
         "marker": {
          "color": "#537388"
         },
         "name": "Transfer Out",
         "type": "bar",
         "uid": "d6684a37-f852-466d-87ba-d173e3863034",
         "x": [
          "Cat, Adult (6 months to 12 years)",
          "Cat, Neonatal (less than 6 weeks)",
          "Cat, Puppies/Kittens (6 weeks to 6 months)",
          "Cat, Senior (12 years and older)",
          "Dog, Adult (6 months to 12 years)",
          "Dog, Neonatal (less than 6 weeks)",
          "Dog, Puppies/Kittens (6 weeks to 6 months)",
          "Dog, Senior (12 years and older)"
         ],
         "y": [
          0,
          0,
          0,
          0,
          1,
          0,
          0,
          0
         ]
        }
       ],
       "layout": {
        "barmode": "stack",
        "margin": {
         "b": 150
        },
        "title": {
         "text": "Outcomes by Group"
        }
       }
      },
      "text/html": [
       "<div id=\"4aa67db9-f047-4cc6-bf99-c2005e7be6c0\" style=\"height: 525px; width: 100%;\" class=\"plotly-graph-div\"></div><script type=\"text/javascript\">require([\"plotly\"], function(Plotly) { window.PLOTLYENV=window.PLOTLYENV || {};window.PLOTLYENV.BASE_URL=\"https://plot.ly\";\n",
       "if (document.getElementById(\"4aa67db9-f047-4cc6-bf99-c2005e7be6c0\")) {\n",
       "    Plotly.newPlot(\"4aa67db9-f047-4cc6-bf99-c2005e7be6c0\", [{\"marker\": {\"color\": \"#8EB5CC\"}, \"name\": \"Adoption\", \"x\": [\"Cat, Adult (6 months to 12 years)\", \"Cat, Neonatal (less than 6 weeks)\", \"Cat, Puppies/Kittens (6 weeks to 6 months)\", \"Cat, Senior (12 years and older)\", \"Dog, Adult (6 months to 12 years)\", \"Dog, Neonatal (less than 6 weeks)\", \"Dog, Puppies/Kittens (6 weeks to 6 months)\", \"Dog, Senior (12 years and older)\"], \"y\": [2.0, 1.0, 1.0, 1.0, 5.0, 4.0, 3.0, 0.0], \"type\": \"bar\", \"uid\": \"5af10905-336c-4b43-850e-de6583bd0b71\"}, {\"marker\": {\"color\": \"#963022\"}, \"name\": \"Death/Euthanized\", \"x\": [\"Cat, Adult (6 months to 12 years)\", \"Cat, Neonatal (less than 6 weeks)\", \"Cat, Puppies/Kittens (6 weeks to 6 months)\", \"Cat, Senior (12 years and older)\", \"Dog, Adult (6 months to 12 years)\", \"Dog, Neonatal (less than 6 weeks)\", \"Dog, Puppies/Kittens (6 weeks to 6 months)\", \"Dog, Senior (12 years and older)\"], \"y\": [0.0, 1.0, 1.0, 0.0, 3.0, 0.0, 0.0, 0.0], \"type\": \"bar\", \"uid\": \"b223ddde-4968-44d6-bcd4-996c9e54633f\"}, {\"marker\": {\"color\": \"#7094AA\"}, \"name\": \"Return to Owner\", \"x\": [\"Cat, Adult (6 months to 12 years)\", \"Cat, Neonatal (less than 6 weeks)\", \"Cat, Puppies/Kittens (6 weeks to 6 months)\", \"Cat, Senior (12 years and older)\", \"Dog, Adult (6 months to 12 years)\", \"Dog, Neonatal (less than 6 weeks)\", \"Dog, Puppies/Kittens (6 weeks to 6 months)\", \"Dog, Senior (12 years and older)\"], \"y\": [0.0, 0.0, 0.0, 0.0, 2.0, 0.0, 2.0, 0.0], \"type\": \"bar\", \"uid\": \"7ca3738c-1a91-4f6f-ac68-b86e0ad94baf\"}, {\"marker\": {\"color\": \"#537388\"}, \"name\": \"Transfer Out\", \"x\": [\"Cat, Adult (6 months to 12 years)\", \"Cat, Neonatal (less than 6 weeks)\", \"Cat, Puppies/Kittens (6 weeks to 6 months)\", \"Cat, Senior (12 years and older)\", \"Dog, Adult (6 months to 12 years)\", \"Dog, Neonatal (less than 6 weeks)\", \"Dog, Puppies/Kittens (6 weeks to 6 months)\", \"Dog, Senior (12 years and older)\"], \"y\": [0.0, 0.0, 0.0, 0.0, 1.0, 0.0, 0.0, 0.0], \"type\": \"bar\", \"uid\": \"d6684a37-f852-466d-87ba-d173e3863034\"}], {\"barmode\": \"stack\", \"margin\": {\"b\": 150}, \"title\": {\"text\": \"Outcomes by Group\"}}, {\"showLink\": false, \"linkText\": \"Export to plot.ly\", \"plotlyServerURL\": \"https://plot.ly\"}); \n",
       "}\n",
       "});</script><script type=\"text/javascript\">window.addEventListener(\"resize\", function(){if (document.getElementById(\"4aa67db9-f047-4cc6-bf99-c2005e7be6c0\")) {window._Plotly.Plots.resize(document.getElementById(\"4aa67db9-f047-4cc6-bf99-c2005e7be6c0\"));};})</script>"
      ],
      "text/vnd.plotly.v1+html": [
       "<div id=\"4aa67db9-f047-4cc6-bf99-c2005e7be6c0\" style=\"height: 525px; width: 100%;\" class=\"plotly-graph-div\"></div><script type=\"text/javascript\">require([\"plotly\"], function(Plotly) { window.PLOTLYENV=window.PLOTLYENV || {};window.PLOTLYENV.BASE_URL=\"https://plot.ly\";\n",
       "if (document.getElementById(\"4aa67db9-f047-4cc6-bf99-c2005e7be6c0\")) {\n",
       "    Plotly.newPlot(\"4aa67db9-f047-4cc6-bf99-c2005e7be6c0\", [{\"marker\": {\"color\": \"#8EB5CC\"}, \"name\": \"Adoption\", \"x\": [\"Cat, Adult (6 months to 12 years)\", \"Cat, Neonatal (less than 6 weeks)\", \"Cat, Puppies/Kittens (6 weeks to 6 months)\", \"Cat, Senior (12 years and older)\", \"Dog, Adult (6 months to 12 years)\", \"Dog, Neonatal (less than 6 weeks)\", \"Dog, Puppies/Kittens (6 weeks to 6 months)\", \"Dog, Senior (12 years and older)\"], \"y\": [2.0, 1.0, 1.0, 1.0, 5.0, 4.0, 3.0, 0.0], \"type\": \"bar\", \"uid\": \"5af10905-336c-4b43-850e-de6583bd0b71\"}, {\"marker\": {\"color\": \"#963022\"}, \"name\": \"Death/Euthanized\", \"x\": [\"Cat, Adult (6 months to 12 years)\", \"Cat, Neonatal (less than 6 weeks)\", \"Cat, Puppies/Kittens (6 weeks to 6 months)\", \"Cat, Senior (12 years and older)\", \"Dog, Adult (6 months to 12 years)\", \"Dog, Neonatal (less than 6 weeks)\", \"Dog, Puppies/Kittens (6 weeks to 6 months)\", \"Dog, Senior (12 years and older)\"], \"y\": [0.0, 1.0, 1.0, 0.0, 3.0, 0.0, 0.0, 0.0], \"type\": \"bar\", \"uid\": \"b223ddde-4968-44d6-bcd4-996c9e54633f\"}, {\"marker\": {\"color\": \"#7094AA\"}, \"name\": \"Return to Owner\", \"x\": [\"Cat, Adult (6 months to 12 years)\", \"Cat, Neonatal (less than 6 weeks)\", \"Cat, Puppies/Kittens (6 weeks to 6 months)\", \"Cat, Senior (12 years and older)\", \"Dog, Adult (6 months to 12 years)\", \"Dog, Neonatal (less than 6 weeks)\", \"Dog, Puppies/Kittens (6 weeks to 6 months)\", \"Dog, Senior (12 years and older)\"], \"y\": [0.0, 0.0, 0.0, 0.0, 2.0, 0.0, 2.0, 0.0], \"type\": \"bar\", \"uid\": \"7ca3738c-1a91-4f6f-ac68-b86e0ad94baf\"}, {\"marker\": {\"color\": \"#537388\"}, \"name\": \"Transfer Out\", \"x\": [\"Cat, Adult (6 months to 12 years)\", \"Cat, Neonatal (less than 6 weeks)\", \"Cat, Puppies/Kittens (6 weeks to 6 months)\", \"Cat, Senior (12 years and older)\", \"Dog, Adult (6 months to 12 years)\", \"Dog, Neonatal (less than 6 weeks)\", \"Dog, Puppies/Kittens (6 weeks to 6 months)\", \"Dog, Senior (12 years and older)\"], \"y\": [0.0, 0.0, 0.0, 0.0, 1.0, 0.0, 0.0, 0.0], \"type\": \"bar\", \"uid\": \"d6684a37-f852-466d-87ba-d173e3863034\"}], {\"barmode\": \"stack\", \"margin\": {\"b\": 150}, \"title\": {\"text\": \"Outcomes by Group\"}}, {\"showLink\": false, \"linkText\": \"Export to plot.ly\", \"plotlyServerURL\": \"https://plot.ly\"}); \n",
       "}\n",
       "});</script><script type=\"text/javascript\">window.addEventListener(\"resize\", function(){if (document.getElementById(\"4aa67db9-f047-4cc6-bf99-c2005e7be6c0\")) {window._Plotly.Plots.resize(document.getElementById(\"4aa67db9-f047-4cc6-bf99-c2005e7be6c0\"));};})</script>"
      ]
     },
     "metadata": {},
     "output_type": "display_data"
    }
   ],
   "source": [
    "BLUE_SPECUTRUM = [\"#8EB5CC\", \"#84AAC0\", \"#7A9FB5\", \"#7094AA\", \"#67899E\", \"#5D7E93\", \"#537388\", \"#4A687C\", \"#405D71\", \"#365266\", \"#2D485B\"]\n",
    "BLUE_ORANGE_SPECTRUM = [\"#8EB5CC\", \"#96AABD\", \"#9F9FAE\", \"#A8959F\", \"#B18A90\", \"#BA8081\", \"#C27572\", \"#CB6A63\", \"#D46054\", \"#DD5545\", \"#E64B36\"]\n",
    "\n",
    "def get_outcome_color(outcome_label):\n",
    "    return {'adoption': BLUE_SPECUTRUM[0], \n",
    "            'return to owner': BLUE_SPECUTRUM[3], \n",
    "            'transfer out': BLUE_SPECUTRUM[6], \n",
    "            'lost/stolen': BLUE_SPECUTRUM[9],\n",
    "            'death/euthanized': '#963022', \n",
    "            'owner requested euthanasia': '#842a1e'}[outcome_label.lower()]\n",
    "\n",
    "traces = []\n",
    "for idx, label in enumerate(labels):\n",
    "    traces.append(go.Bar(x=list(stacks.keys()),\n",
    "                         y=np.transpose(list(stacks.values()))[idx],\n",
    "                         name=label,\n",
    "                         marker=dict(color=get_outcome_color(label))))\n",
    "layout = go.Layout(barmode='stack', title=\"Outcomes by Group\", margin={'b': 150})\n",
    "fig = go.Figure(data=traces, layout=layout)\n",
    "iplot(fig, filename='stacked-bar')"
   ]
  },
  {
   "cell_type": "code",
   "execution_count": 168,
   "metadata": {},
   "outputs": [],
   "source": [
    "def get_font():\n",
    "    return dict(family='Source Sans Pro, sans-serif')"
   ]
  },
  {
   "cell_type": "code",
   "execution_count": 171,
   "metadata": {
    "scrolled": true
   },
   "outputs": [
    {
     "data": {
      "application/vnd.plotly.v1+json": {
       "config": {
        "linkText": "Export to plot.ly",
        "plotlyServerURL": "https://plot.ly",
        "showLink": false
       },
       "data": [
        {
         "marker": {
          "color": "#8EB5CC"
         },
         "name": "Adoption",
         "type": "bar",
         "uid": "77b03cd2-8680-4b56-aa25-4e8ab9ba7780",
         "x": [
          "Behavior (Including Fractious/Feral)",
          "Did Not Die",
          "Medical - Distemper",
          "Medical - Parvo",
          "Medical - Ringworm"
         ],
         "y": [
          0,
          17,
          0,
          0,
          0
         ]
        },
        {
         "marker": {
          "color": "#963022"
         },
         "name": "Death/Euthanized",
         "type": "bar",
         "uid": "3885ceb3-ad7f-4683-986a-74283574e142",
         "x": [
          "Behavior (Including Fractious/Feral)",
          "Did Not Die",
          "Medical - Distemper",
          "Medical - Parvo",
          "Medical - Ringworm"
         ],
         "y": [
          1,
          0,
          1,
          2,
          1
         ]
        },
        {
         "marker": {
          "color": "#7094AA"
         },
         "name": "Return to Owner",
         "type": "bar",
         "uid": "6d654da9-a6d4-4512-9250-af7e7186c690",
         "x": [
          "Behavior (Including Fractious/Feral)",
          "Did Not Die",
          "Medical - Distemper",
          "Medical - Parvo",
          "Medical - Ringworm"
         ],
         "y": [
          0,
          4,
          0,
          0,
          0
         ]
        },
        {
         "marker": {
          "color": "#537388"
         },
         "name": "Transfer Out",
         "type": "bar",
         "uid": "f5834b28-a5e2-4e37-a581-6c55e5a81a1a",
         "x": [
          "Behavior (Including Fractious/Feral)",
          "Did Not Die",
          "Medical - Distemper",
          "Medical - Parvo",
          "Medical - Ringworm"
         ],
         "y": [
          0,
          1,
          0,
          0,
          0
         ]
        },
        {
         "marker": {
          "color": "#8EB5CC"
         },
         "name": "Adoption",
         "type": "bar",
         "uid": "65415ba7-7e26-437d-8ddf-9f4724d68c74",
         "visible": false,
         "x": [
          "Behavior (Including Fractious/Feral)",
          "Did Not Die",
          "Medical - Distemper",
          "Medical - Parvo",
          "Medical - Ringworm"
         ],
         "y": [
          0,
          77.3,
          0,
          0,
          0
         ]
        },
        {
         "marker": {
          "color": "#963022"
         },
         "name": "Death/Euthanized",
         "type": "bar",
         "uid": "54c23bb4-54e0-4db4-9dc7-9d100742497b",
         "visible": false,
         "x": [
          "Behavior (Including Fractious/Feral)",
          "Did Not Die",
          "Medical - Distemper",
          "Medical - Parvo",
          "Medical - Ringworm"
         ],
         "y": [
          100,
          0,
          100,
          100,
          100
         ]
        },
        {
         "marker": {
          "color": "#7094AA"
         },
         "name": "Return to Owner",
         "type": "bar",
         "uid": "ea7a9b66-053f-4907-b5f7-50866c5d6a00",
         "visible": false,
         "x": [
          "Behavior (Including Fractious/Feral)",
          "Did Not Die",
          "Medical - Distemper",
          "Medical - Parvo",
          "Medical - Ringworm"
         ],
         "y": [
          0,
          18.2,
          0,
          0,
          0
         ]
        },
        {
         "marker": {
          "color": "#537388"
         },
         "name": "Transfer Out",
         "type": "bar",
         "uid": "9263b22c-e7a3-496f-ad28-10f8768b6b87",
         "visible": false,
         "x": [
          "Behavior (Including Fractious/Feral)",
          "Did Not Die",
          "Medical - Distemper",
          "Medical - Parvo",
          "Medical - Ringworm"
         ],
         "y": [
          0,
          4.5,
          0,
          0,
          0
         ]
        }
       ],
       "layout": {
        "barmode": "stack",
        "font": {
         "family": "Source Sans Pro, sans-serif"
        },
        "height": 600,
        "margin": {
         "b": 150
        },
        "title": {
         "text": "Raw Outcomes by Group"
        },
        "updatemenus": [
         {
          "buttons": [
           {
            "args": [
             {
              "visible": [
               true,
               true,
               true,
               true,
               false,
               false,
               false,
               false
              ]
             },
             {
              "title": "Raw Outcomes by Group"
             }
            ],
            "label": "Raw Numbers",
            "method": "update"
           },
           {
            "args": [
             {
              "visible": [
               false,
               false,
               false,
               false,
               true,
               true,
               true,
               true
              ]
             },
             {
              "title": "Percent Outcomes by Group"
             }
            ],
            "label": "Percentages",
            "method": "update"
           }
          ],
          "direction": "left",
          "pad": {
           "r": 10,
           "t": 10
          },
          "showactive": true,
          "type": "buttons",
          "x": 0.1,
          "xanchor": "left",
          "y": 1.1,
          "yanchor": "top"
         }
        ]
       }
      },
      "text/html": [
       "<div id=\"ca5eba49-48a7-4154-9ea5-93d2d507e056\" style=\"height: 600px; width: 100%;\" class=\"plotly-graph-div\"></div><script type=\"text/javascript\">require([\"plotly\"], function(Plotly) { window.PLOTLYENV=window.PLOTLYENV || {};window.PLOTLYENV.BASE_URL=\"https://plot.ly\";\n",
       "if (document.getElementById(\"ca5eba49-48a7-4154-9ea5-93d2d507e056\")) {\n",
       "    Plotly.newPlot(\"ca5eba49-48a7-4154-9ea5-93d2d507e056\", [{\"marker\": {\"color\": \"#8EB5CC\"}, \"name\": \"Adoption\", \"x\": [\"Behavior (Including Fractious/Feral)\", \"Did Not Die\", \"Medical - Distemper\", \"Medical - Parvo\", \"Medical - Ringworm\"], \"y\": [0.0, 17.0, 0.0, 0.0, 0.0], \"type\": \"bar\", \"uid\": \"77b03cd2-8680-4b56-aa25-4e8ab9ba7780\"}, {\"marker\": {\"color\": \"#963022\"}, \"name\": \"Death/Euthanized\", \"x\": [\"Behavior (Including Fractious/Feral)\", \"Did Not Die\", \"Medical - Distemper\", \"Medical - Parvo\", \"Medical - Ringworm\"], \"y\": [1.0, 0.0, 1.0, 2.0, 1.0], \"type\": \"bar\", \"uid\": \"3885ceb3-ad7f-4683-986a-74283574e142\"}, {\"marker\": {\"color\": \"#7094AA\"}, \"name\": \"Return to Owner\", \"x\": [\"Behavior (Including Fractious/Feral)\", \"Did Not Die\", \"Medical - Distemper\", \"Medical - Parvo\", \"Medical - Ringworm\"], \"y\": [0.0, 4.0, 0.0, 0.0, 0.0], \"type\": \"bar\", \"uid\": \"6d654da9-a6d4-4512-9250-af7e7186c690\"}, {\"marker\": {\"color\": \"#537388\"}, \"name\": \"Transfer Out\", \"x\": [\"Behavior (Including Fractious/Feral)\", \"Did Not Die\", \"Medical - Distemper\", \"Medical - Parvo\", \"Medical - Ringworm\"], \"y\": [0.0, 1.0, 0.0, 0.0, 0.0], \"type\": \"bar\", \"uid\": \"f5834b28-a5e2-4e37-a581-6c55e5a81a1a\"}, {\"marker\": {\"color\": \"#8EB5CC\"}, \"name\": \"Adoption\", \"visible\": false, \"x\": [\"Behavior (Including Fractious/Feral)\", \"Did Not Die\", \"Medical - Distemper\", \"Medical - Parvo\", \"Medical - Ringworm\"], \"y\": [0.0, 77.3, 0.0, 0.0, 0.0], \"type\": \"bar\", \"uid\": \"65415ba7-7e26-437d-8ddf-9f4724d68c74\"}, {\"marker\": {\"color\": \"#963022\"}, \"name\": \"Death/Euthanized\", \"visible\": false, \"x\": [\"Behavior (Including Fractious/Feral)\", \"Did Not Die\", \"Medical - Distemper\", \"Medical - Parvo\", \"Medical - Ringworm\"], \"y\": [100.0, 0.0, 100.0, 100.0, 100.0], \"type\": \"bar\", \"uid\": \"54c23bb4-54e0-4db4-9dc7-9d100742497b\"}, {\"marker\": {\"color\": \"#7094AA\"}, \"name\": \"Return to Owner\", \"visible\": false, \"x\": [\"Behavior (Including Fractious/Feral)\", \"Did Not Die\", \"Medical - Distemper\", \"Medical - Parvo\", \"Medical - Ringworm\"], \"y\": [0.0, 18.2, 0.0, 0.0, 0.0], \"type\": \"bar\", \"uid\": \"ea7a9b66-053f-4907-b5f7-50866c5d6a00\"}, {\"marker\": {\"color\": \"#537388\"}, \"name\": \"Transfer Out\", \"visible\": false, \"x\": [\"Behavior (Including Fractious/Feral)\", \"Did Not Die\", \"Medical - Distemper\", \"Medical - Parvo\", \"Medical - Ringworm\"], \"y\": [0.0, 4.5, 0.0, 0.0, 0.0], \"type\": \"bar\", \"uid\": \"9263b22c-e7a3-496f-ad28-10f8768b6b87\"}], {\"barmode\": \"stack\", \"height\": 600, \"margin\": {\"b\": 150}, \"title\": {\"text\": \"Raw Outcomes by Group\"}, \"font\": {\"family\": \"Source Sans Pro, sans-serif\"}, \"updatemenus\": [{\"buttons\": [{\"args\": [{\"visible\": [true, true, true, true, false, false, false, false]}, {\"title\": \"Raw Outcomes by Group\"}], \"label\": \"Raw Numbers\", \"method\": \"update\"}, {\"args\": [{\"visible\": [false, false, false, false, true, true, true, true]}, {\"title\": \"Percent Outcomes by Group\"}], \"label\": \"Percentages\", \"method\": \"update\"}], \"direction\": \"left\", \"pad\": {\"r\": 10, \"t\": 10}, \"showactive\": true, \"type\": \"buttons\", \"x\": 0.1, \"xanchor\": \"left\", \"y\": 1.1, \"yanchor\": \"top\"}]}, {\"showLink\": false, \"linkText\": \"Export to plot.ly\", \"plotlyServerURL\": \"https://plot.ly\"}); \n",
       "}\n",
       "});</script><script type=\"text/javascript\">window.addEventListener(\"resize\", function(){if (document.getElementById(\"ca5eba49-48a7-4154-9ea5-93d2d507e056\")) {window._Plotly.Plots.resize(document.getElementById(\"ca5eba49-48a7-4154-9ea5-93d2d507e056\"));};})</script>"
      ],
      "text/vnd.plotly.v1+html": [
       "<div id=\"ca5eba49-48a7-4154-9ea5-93d2d507e056\" style=\"height: 600px; width: 100%;\" class=\"plotly-graph-div\"></div><script type=\"text/javascript\">require([\"plotly\"], function(Plotly) { window.PLOTLYENV=window.PLOTLYENV || {};window.PLOTLYENV.BASE_URL=\"https://plot.ly\";\n",
       "if (document.getElementById(\"ca5eba49-48a7-4154-9ea5-93d2d507e056\")) {\n",
       "    Plotly.newPlot(\"ca5eba49-48a7-4154-9ea5-93d2d507e056\", [{\"marker\": {\"color\": \"#8EB5CC\"}, \"name\": \"Adoption\", \"x\": [\"Behavior (Including Fractious/Feral)\", \"Did Not Die\", \"Medical - Distemper\", \"Medical - Parvo\", \"Medical - Ringworm\"], \"y\": [0.0, 17.0, 0.0, 0.0, 0.0], \"type\": \"bar\", \"uid\": \"77b03cd2-8680-4b56-aa25-4e8ab9ba7780\"}, {\"marker\": {\"color\": \"#963022\"}, \"name\": \"Death/Euthanized\", \"x\": [\"Behavior (Including Fractious/Feral)\", \"Did Not Die\", \"Medical - Distemper\", \"Medical - Parvo\", \"Medical - Ringworm\"], \"y\": [1.0, 0.0, 1.0, 2.0, 1.0], \"type\": \"bar\", \"uid\": \"3885ceb3-ad7f-4683-986a-74283574e142\"}, {\"marker\": {\"color\": \"#7094AA\"}, \"name\": \"Return to Owner\", \"x\": [\"Behavior (Including Fractious/Feral)\", \"Did Not Die\", \"Medical - Distemper\", \"Medical - Parvo\", \"Medical - Ringworm\"], \"y\": [0.0, 4.0, 0.0, 0.0, 0.0], \"type\": \"bar\", \"uid\": \"6d654da9-a6d4-4512-9250-af7e7186c690\"}, {\"marker\": {\"color\": \"#537388\"}, \"name\": \"Transfer Out\", \"x\": [\"Behavior (Including Fractious/Feral)\", \"Did Not Die\", \"Medical - Distemper\", \"Medical - Parvo\", \"Medical - Ringworm\"], \"y\": [0.0, 1.0, 0.0, 0.0, 0.0], \"type\": \"bar\", \"uid\": \"f5834b28-a5e2-4e37-a581-6c55e5a81a1a\"}, {\"marker\": {\"color\": \"#8EB5CC\"}, \"name\": \"Adoption\", \"visible\": false, \"x\": [\"Behavior (Including Fractious/Feral)\", \"Did Not Die\", \"Medical - Distemper\", \"Medical - Parvo\", \"Medical - Ringworm\"], \"y\": [0.0, 77.3, 0.0, 0.0, 0.0], \"type\": \"bar\", \"uid\": \"65415ba7-7e26-437d-8ddf-9f4724d68c74\"}, {\"marker\": {\"color\": \"#963022\"}, \"name\": \"Death/Euthanized\", \"visible\": false, \"x\": [\"Behavior (Including Fractious/Feral)\", \"Did Not Die\", \"Medical - Distemper\", \"Medical - Parvo\", \"Medical - Ringworm\"], \"y\": [100.0, 0.0, 100.0, 100.0, 100.0], \"type\": \"bar\", \"uid\": \"54c23bb4-54e0-4db4-9dc7-9d100742497b\"}, {\"marker\": {\"color\": \"#7094AA\"}, \"name\": \"Return to Owner\", \"visible\": false, \"x\": [\"Behavior (Including Fractious/Feral)\", \"Did Not Die\", \"Medical - Distemper\", \"Medical - Parvo\", \"Medical - Ringworm\"], \"y\": [0.0, 18.2, 0.0, 0.0, 0.0], \"type\": \"bar\", \"uid\": \"ea7a9b66-053f-4907-b5f7-50866c5d6a00\"}, {\"marker\": {\"color\": \"#537388\"}, \"name\": \"Transfer Out\", \"visible\": false, \"x\": [\"Behavior (Including Fractious/Feral)\", \"Did Not Die\", \"Medical - Distemper\", \"Medical - Parvo\", \"Medical - Ringworm\"], \"y\": [0.0, 4.5, 0.0, 0.0, 0.0], \"type\": \"bar\", \"uid\": \"9263b22c-e7a3-496f-ad28-10f8768b6b87\"}], {\"barmode\": \"stack\", \"height\": 600, \"margin\": {\"b\": 150}, \"title\": {\"text\": \"Raw Outcomes by Group\"}, \"font\": {\"family\": \"Source Sans Pro, sans-serif\"}, \"updatemenus\": [{\"buttons\": [{\"args\": [{\"visible\": [true, true, true, true, false, false, false, false]}, {\"title\": \"Raw Outcomes by Group\"}], \"label\": \"Raw Numbers\", \"method\": \"update\"}, {\"args\": [{\"visible\": [false, false, false, false, true, true, true, true]}, {\"title\": \"Percent Outcomes by Group\"}], \"label\": \"Percentages\", \"method\": \"update\"}], \"direction\": \"left\", \"pad\": {\"r\": 10, \"t\": 10}, \"showactive\": true, \"type\": \"buttons\", \"x\": 0.1, \"xanchor\": \"left\", \"y\": 1.1, \"yanchor\": \"top\"}]}, {\"showLink\": false, \"linkText\": \"Export to plot.ly\", \"plotlyServerURL\": \"https://plot.ly\"}); \n",
       "}\n",
       "});</script><script type=\"text/javascript\">window.addEventListener(\"resize\", function(){if (document.getElementById(\"ca5eba49-48a7-4154-9ea5-93d2d507e056\")) {window._Plotly.Plots.resize(document.getElementById(\"ca5eba49-48a7-4154-9ea5-93d2d507e056\"));};})</script>"
      ]
     },
     "metadata": {},
     "output_type": "display_data"
    }
   ],
   "source": [
    "def population_outcomes_graph(df, expected_height):\n",
    "    z = df.groupby(['Cause of Death (if applicable)', 'Outcome']).size().to_frame('count').reset_index().merge(\n",
    "       pd.DataFrame(list(set([i for i in product(*[df['Outcome'], df['Cause of Death (if applicable)']])])), columns=['Outcome', 'Cause of Death (if applicable)']),\n",
    "       on=['Cause of Death (if applicable)', 'Outcome'],\n",
    "       how='right').fillna(value=0)\n",
    "    # z['GroupLabel'] = z['Species'] + ', ' + z['Group']\n",
    "    grps = z.groupby(['Cause of Death (if applicable)', 'Outcome'])['count']\n",
    "    stacks = {}\n",
    "    stacks_norm = {}\n",
    "    labels = []\n",
    "    for grp, val in grps:\n",
    "        if grp[1] not in labels:\n",
    "            labels.append(grp[1])\n",
    "        if grp[0] in stacks:\n",
    "            stacks[grp[0]].append(float(val))\n",
    "        else:\n",
    "            stacks[grp[0]] = [float(val)]\n",
    "    for key in stacks:\n",
    "        total = np.sum(stacks[key])\n",
    "        if total == 0:\n",
    "            stacks_norm[key] = [0 for _ in stacks[key]]\n",
    "        else:\n",
    "            stacks_norm[key] = [np.round(float(x)/float(total)*100, decimals=1) for x in stacks[key]]\n",
    "    traces = []\n",
    "    traces_norm = []\n",
    "    for idx, label in enumerate(labels):\n",
    "        traces.append(go.Bar(x=list(stacks.keys()),\n",
    "                            y=np.transpose(list(stacks.values()))[idx],\n",
    "                            name=label,\n",
    "                            marker=dict(color=get_outcome_color(label))))\n",
    "        traces_norm.append(go.Bar(x=list(stacks_norm.keys()),\n",
    "                            y=np.transpose(list(stacks_norm.values()))[idx],\n",
    "                            name=label,\n",
    "                            marker=dict(color=get_outcome_color(label)), visible=False))\n",
    "    def getDataVisibile(norm=False):\n",
    "        if norm:\n",
    "            return [False for _ in traces] + [True for _ in traces_norm]\n",
    "        else:\n",
    "            return [True for _ in traces] + [False for _ in traces_norm]\n",
    "    layout = go.Layout(barmode='stack', title=\"Raw Outcomes by Group\", margin={'b': 150}, height=expected_height)\n",
    "    fig = go.Figure(data=traces+traces_norm, layout=layout)\n",
    "    fig['layout'].update(font=get_font())\n",
    "    fig['layout'].update(updatemenus=list([\n",
    "                                        dict(\n",
    "                                            buttons=list([   \n",
    "                                                dict(label = 'Raw Numbers',\n",
    "                                                    method = 'update',\n",
    "                                                    args = [{'visible': getDataVisibile(False)},\n",
    "                                                            {'title': 'Raw Outcomes by Group'}]\n",
    "                                                ),\n",
    "                                                dict(label = 'Percentages',\n",
    "                                                    method = 'update', \n",
    "                                                    args = [{'visible': getDataVisibile(True)},\n",
    "                                                            {'title': 'Percent Outcomes by Group'}]\n",
    "                                                ),                    \n",
    "                                            ]),\n",
    "                                            direction = 'left',\n",
    "                                            pad = {'r': 10, 't': 10},\n",
    "                                            showactive = True,\n",
    "                                            type = 'buttons',\n",
    "                                            x = 0.1,\n",
    "                                            xanchor = 'left',\n",
    "                                            y = 1.1,\n",
    "                                            yanchor = 'top' \n",
    "                                        )\n",
    "                                    ]))\n",
    "    return iplot(fig)\n",
    "\n",
    "population_outcomes_graph(df, 600)"
   ]
  },
  {
   "cell_type": "code",
   "execution_count": 13,
   "metadata": {},
   "outputs": [
    {
     "data": {
      "text/plain": [
       "'#b2bbc3'"
      ]
     },
     "execution_count": 13,
     "metadata": {},
     "output_type": "execute_result"
    }
   ],
   "source": [
    "from colour import Color\n",
    "import numpy as np\n",
    "Color(hsl=np.array(Color(\"#AABBCC\").hsl) * np.array([1, 0.5, 1])).hex"
   ]
  },
  {
   "cell_type": "code",
   "execution_count": 20,
   "metadata": {},
   "outputs": [
    {
     "data": {
      "text/plain": [
       "9"
      ]
     },
     "execution_count": 20,
     "metadata": {},
     "output_type": "execute_result"
    }
   ],
   "source": [
    "import pandas as pd\n",
    "(max(pd.to_datetime(df['Intake Date'])) - min(pd.to_datetime(df['Intake Date']))).days"
   ]
  },
  {
   "cell_type": "code",
   "execution_count": 30,
   "metadata": {},
   "outputs": [
    {
     "data": {
      "text/plain": [
       "[False,\n",
       " False,\n",
       " False,\n",
       " False,\n",
       " False,\n",
       " False,\n",
       " False,\n",
       " False,\n",
       " False,\n",
       " False,\n",
       " False,\n",
       " False,\n",
       " False,\n",
       " False,\n",
       " False,\n",
       " False,\n",
       " False,\n",
       " False,\n",
       " False,\n",
       " False,\n",
       " False,\n",
       " False,\n",
       " False,\n",
       " False,\n",
       " False,\n",
       " False,\n",
       " False]"
      ]
     },
     "execution_count": 30,
     "metadata": {},
     "output_type": "execute_result"
    }
   ],
   "source": [
    "[x and y for x, y in zip((df['Housing Need'] == 'Single Unit Housing'), (df['Housing Need'] == 'Co-Housing'))]"
   ]
  },
  {
   "cell_type": "code",
   "execution_count": 28,
   "metadata": {},
   "outputs": [
    {
     "data": {
      "text/plain": [
       "0      True\n",
       "1      True\n",
       "2      True\n",
       "3      True\n",
       "4      True\n",
       "5     False\n",
       "6     False\n",
       "7     False\n",
       "8     False\n",
       "9     False\n",
       "10    False\n",
       "11    False\n",
       "12    False\n",
       "13    False\n",
       "14    False\n",
       "15    False\n",
       "16    False\n",
       "17     True\n",
       "18     True\n",
       "19    False\n",
       "20     True\n",
       "21     True\n",
       "22    False\n",
       "23    False\n",
       "24    False\n",
       "25    False\n",
       "26    False\n",
       "Name: Housing Need, dtype: bool"
      ]
     },
     "execution_count": 28,
     "metadata": {},
     "output_type": "execute_result"
    }
   ],
   "source": [
    "(df['Housing Need'] == 'Co-Housing')"
   ]
  },
  {
   "cell_type": "code",
   "execution_count": null,
   "metadata": {},
   "outputs": [],
   "source": []
  }
 ],
 "metadata": {
  "kernelspec": {
   "display_name": "Python 3",
   "language": "python",
   "name": "python3"
  },
  "language_info": {
   "codemirror_mode": {
    "name": "ipython",
    "version": 3
   },
   "file_extension": ".py",
   "mimetype": "text/x-python",
   "name": "python",
   "nbconvert_exporter": "python",
   "pygments_lexer": "ipython3",
   "version": "3.6.8"
  }
 },
 "nbformat": 4,
 "nbformat_minor": 2
}
