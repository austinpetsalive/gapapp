{
 "cells": [
  {
   "cell_type": "code",
   "execution_count": 91,
   "metadata": {},
   "outputs": [
    {
     "data": {
      "text/plain": [
       "Index(['Intake Date', 'Source', 'Species', 'Group', 'Size', 'Outcome',\n",
       "       'Cause of Death (if applicable)', 'Housing Need'],\n",
       "      dtype='object')"
      ]
     },
     "execution_count": 91,
     "metadata": {},
     "output_type": "execute_result"
    }
   ],
   "source": [
    "import pandas as pd\n",
    "\n",
    "df = pd.read_pickle('./data/none-20190326-182522.pkl')\n",
    "df.columns"
   ]
  },
  {
   "cell_type": "code",
   "execution_count": 18,
   "metadata": {},
   "outputs": [
    {
     "data": {
      "text/html": [
       "<div>\n",
       "<style scoped>\n",
       "    .dataframe tbody tr th:only-of-type {\n",
       "        vertical-align: middle;\n",
       "    }\n",
       "\n",
       "    .dataframe tbody tr th {\n",
       "        vertical-align: top;\n",
       "    }\n",
       "\n",
       "    .dataframe thead th {\n",
       "        text-align: right;\n",
       "    }\n",
       "</style>\n",
       "<table border=\"1\" class=\"dataframe\">\n",
       "  <thead>\n",
       "    <tr style=\"text-align: right;\">\n",
       "      <th></th>\n",
       "      <th>Intake Date</th>\n",
       "      <th>Source</th>\n",
       "      <th>Species</th>\n",
       "      <th>Group</th>\n",
       "      <th>Size</th>\n",
       "      <th>Outcome</th>\n",
       "      <th>Cause of Death (if applicable)</th>\n",
       "      <th>Housing Need</th>\n",
       "    </tr>\n",
       "  </thead>\n",
       "  <tbody>\n",
       "    <tr>\n",
       "      <th>0</th>\n",
       "      <td>2019-03-05</td>\n",
       "      <td>From Field</td>\n",
       "      <td>Dog</td>\n",
       "      <td>Neonatal (less than 7 weeks)</td>\n",
       "      <td>Small (under 30lbs for dogs)</td>\n",
       "      <td>Adoption</td>\n",
       "      <td>Did Not Die</td>\n",
       "      <td>Co-Housing</td>\n",
       "    </tr>\n",
       "    <tr>\n",
       "      <th>1</th>\n",
       "      <td>2019-03-06</td>\n",
       "      <td>From Field</td>\n",
       "      <td>Dog</td>\n",
       "      <td>Neonatal (less than 7 weeks)</td>\n",
       "      <td>Small (under 30lbs for dogs)</td>\n",
       "      <td>Adoption</td>\n",
       "      <td>Did Not Die</td>\n",
       "      <td>Co-Housing</td>\n",
       "    </tr>\n",
       "    <tr>\n",
       "      <th>2</th>\n",
       "      <td>2019-03-05</td>\n",
       "      <td>Over Counter</td>\n",
       "      <td>Dog</td>\n",
       "      <td>Neonatal (less than 7 weeks)</td>\n",
       "      <td>Small (under 30lbs for dogs)</td>\n",
       "      <td>Adoption</td>\n",
       "      <td>Did Not Die</td>\n",
       "      <td>Co-Housing</td>\n",
       "    </tr>\n",
       "    <tr>\n",
       "      <th>3</th>\n",
       "      <td>2019-03-07</td>\n",
       "      <td>Over Counter</td>\n",
       "      <td>Dog</td>\n",
       "      <td>Nursing Mom</td>\n",
       "      <td>Small (under 30lbs for dogs)</td>\n",
       "      <td>Adoption</td>\n",
       "      <td>Did Not Die</td>\n",
       "      <td>Co-Housing</td>\n",
       "    </tr>\n",
       "    <tr>\n",
       "      <th>4</th>\n",
       "      <td>2019-03-05</td>\n",
       "      <td>From Field</td>\n",
       "      <td>Dog</td>\n",
       "      <td>Puppies/Kittens (7-16 weeks - inclusive)</td>\n",
       "      <td>Small (under 30lbs for dogs)</td>\n",
       "      <td>Return to Owner</td>\n",
       "      <td>Did Not Die</td>\n",
       "      <td>Co-Housing</td>\n",
       "    </tr>\n",
       "    <tr>\n",
       "      <th>5</th>\n",
       "      <td>2019-03-08</td>\n",
       "      <td>From Field</td>\n",
       "      <td>Dog</td>\n",
       "      <td>Other Adult (over 16 weeks)</td>\n",
       "      <td>Large (over 30lbs for dogs)</td>\n",
       "      <td>Return to Owner</td>\n",
       "      <td>Did Not Die</td>\n",
       "      <td>Single Unit Housing</td>\n",
       "    </tr>\n",
       "    <tr>\n",
       "      <th>6</th>\n",
       "      <td>2019-03-08</td>\n",
       "      <td>From Field</td>\n",
       "      <td>Dog</td>\n",
       "      <td>Other Adult (over 16 weeks)</td>\n",
       "      <td>Large (over 30lbs for dogs)</td>\n",
       "      <td>Transfer</td>\n",
       "      <td>Did Not Die</td>\n",
       "      <td>Single Unit Housing</td>\n",
       "    </tr>\n",
       "    <tr>\n",
       "      <th>7</th>\n",
       "      <td>2019-03-09</td>\n",
       "      <td>Over Counter</td>\n",
       "      <td>Dog</td>\n",
       "      <td>Other Adult (over 16 weeks)</td>\n",
       "      <td>Large (over 30lbs for dogs)</td>\n",
       "      <td>Death</td>\n",
       "      <td>Behavior</td>\n",
       "      <td>Single Unit Housing</td>\n",
       "    </tr>\n",
       "    <tr>\n",
       "      <th>8</th>\n",
       "      <td>2019-03-10</td>\n",
       "      <td>From Field</td>\n",
       "      <td>Dog</td>\n",
       "      <td>Puppies/Kittens (7-16 weeks - inclusive)</td>\n",
       "      <td>Large (over 30lbs for dogs)</td>\n",
       "      <td>Adoption</td>\n",
       "      <td>Did Not Die</td>\n",
       "      <td>Single Unit Housing</td>\n",
       "    </tr>\n",
       "    <tr>\n",
       "      <th>9</th>\n",
       "      <td>2019-03-11</td>\n",
       "      <td>From Field</td>\n",
       "      <td>Dog</td>\n",
       "      <td>Puppies/Kittens (7-16 weeks - inclusive)</td>\n",
       "      <td>Large (over 30lbs for dogs)</td>\n",
       "      <td>Adoption</td>\n",
       "      <td>Did Not Die</td>\n",
       "      <td>Single Unit Housing</td>\n",
       "    </tr>\n",
       "    <tr>\n",
       "      <th>10</th>\n",
       "      <td>2019-03-12</td>\n",
       "      <td>From Field</td>\n",
       "      <td>Dog</td>\n",
       "      <td>Other Adult (over 16 weeks)</td>\n",
       "      <td>Large (over 30lbs for dogs)</td>\n",
       "      <td>Adoption</td>\n",
       "      <td>Did Not Die</td>\n",
       "      <td>Single Unit Housing</td>\n",
       "    </tr>\n",
       "    <tr>\n",
       "      <th>11</th>\n",
       "      <td>2019-03-13</td>\n",
       "      <td>Over Counter</td>\n",
       "      <td>Dog</td>\n",
       "      <td>Other Adult (over 16 weeks)</td>\n",
       "      <td>Large (over 30lbs for dogs)</td>\n",
       "      <td>Adoption</td>\n",
       "      <td>Did Not Die</td>\n",
       "      <td>Single Unit Housing</td>\n",
       "    </tr>\n",
       "    <tr>\n",
       "      <th>12</th>\n",
       "      <td>2019-03-14</td>\n",
       "      <td>Over Counter</td>\n",
       "      <td>Dog</td>\n",
       "      <td>Other Adult (over 16 weeks)</td>\n",
       "      <td>Large (over 30lbs for dogs)</td>\n",
       "      <td>Return to Owner</td>\n",
       "      <td>Did Not Die</td>\n",
       "      <td>Single Unit Housing</td>\n",
       "    </tr>\n",
       "    <tr>\n",
       "      <th>13</th>\n",
       "      <td>2019-03-14</td>\n",
       "      <td>Over Counter</td>\n",
       "      <td>Dog</td>\n",
       "      <td>Other Adult (over 16 weeks)</td>\n",
       "      <td>Large (over 30lbs for dogs)</td>\n",
       "      <td>Death</td>\n",
       "      <td>Medical - Parvo</td>\n",
       "      <td>Single Unit Housing</td>\n",
       "    </tr>\n",
       "    <tr>\n",
       "      <th>14</th>\n",
       "      <td>2019-03-14</td>\n",
       "      <td>From Field</td>\n",
       "      <td>Cat</td>\n",
       "      <td>Puppies/Kittens (7-16 weeks - inclusive)</td>\n",
       "      <td>N/A</td>\n",
       "      <td>Death</td>\n",
       "      <td>Medical - Parvo</td>\n",
       "      <td>None/Not Applicable</td>\n",
       "    </tr>\n",
       "    <tr>\n",
       "      <th>15</th>\n",
       "      <td>2019-03-14</td>\n",
       "      <td>Over Counter</td>\n",
       "      <td>Cat</td>\n",
       "      <td>Puppies/Kittens (7-16 weeks - inclusive)</td>\n",
       "      <td>N/A</td>\n",
       "      <td>Adoption</td>\n",
       "      <td>Did Not Die</td>\n",
       "      <td>None/Not Applicable</td>\n",
       "    </tr>\n",
       "    <tr>\n",
       "      <th>16</th>\n",
       "      <td>2019-03-14</td>\n",
       "      <td>From Field</td>\n",
       "      <td>Dog</td>\n",
       "      <td>Other Adult (over 16 weeks)</td>\n",
       "      <td>Large (over 30lbs for dogs)</td>\n",
       "      <td>Adoption</td>\n",
       "      <td>Did Not Die</td>\n",
       "      <td>Single Unit Housing</td>\n",
       "    </tr>\n",
       "    <tr>\n",
       "      <th>17</th>\n",
       "      <td>2019-03-14</td>\n",
       "      <td>Over Counter</td>\n",
       "      <td>Dog</td>\n",
       "      <td>Other Adult (over 16 weeks)</td>\n",
       "      <td>Small (under 30lbs for dogs)</td>\n",
       "      <td>Adoption</td>\n",
       "      <td>Did Not Die</td>\n",
       "      <td>Co-Housing</td>\n",
       "    </tr>\n",
       "    <tr>\n",
       "      <th>18</th>\n",
       "      <td>2019-03-14</td>\n",
       "      <td>From Field</td>\n",
       "      <td>Dog</td>\n",
       "      <td>Other Adult (over 16 weeks)</td>\n",
       "      <td>Small (under 30lbs for dogs)</td>\n",
       "      <td>Adoption</td>\n",
       "      <td>Did Not Die</td>\n",
       "      <td>Co-Housing</td>\n",
       "    </tr>\n",
       "    <tr>\n",
       "      <th>19</th>\n",
       "      <td>2019-03-14</td>\n",
       "      <td>From Field</td>\n",
       "      <td>Cat</td>\n",
       "      <td>Other Adult (over 16 weeks)</td>\n",
       "      <td>N/A</td>\n",
       "      <td>Adoption</td>\n",
       "      <td>Did Not Die</td>\n",
       "      <td>None/Not Applicable</td>\n",
       "    </tr>\n",
       "    <tr>\n",
       "      <th>20</th>\n",
       "      <td>2019-03-14</td>\n",
       "      <td>Over Counter</td>\n",
       "      <td>Dog</td>\n",
       "      <td>Puppies/Kittens (7-16 weeks - inclusive)</td>\n",
       "      <td>Small (under 30lbs for dogs)</td>\n",
       "      <td>Adoption</td>\n",
       "      <td>Did Not Die</td>\n",
       "      <td>Co-Housing</td>\n",
       "    </tr>\n",
       "    <tr>\n",
       "      <th>21</th>\n",
       "      <td>2019-03-14</td>\n",
       "      <td>From Field</td>\n",
       "      <td>Dog</td>\n",
       "      <td>Puppies/Kittens (7-16 weeks - inclusive)</td>\n",
       "      <td>Small (under 30lbs for dogs)</td>\n",
       "      <td>Return to Owner</td>\n",
       "      <td>Did Not Die</td>\n",
       "      <td>Co-Housing</td>\n",
       "    </tr>\n",
       "    <tr>\n",
       "      <th>22</th>\n",
       "      <td>2019-03-14</td>\n",
       "      <td>From Field</td>\n",
       "      <td>Dog</td>\n",
       "      <td>Other Adult (over 16 weeks)</td>\n",
       "      <td>Small (under 30lbs for dogs)</td>\n",
       "      <td>Death</td>\n",
       "      <td>Medical - URI - Distemper</td>\n",
       "      <td>Single Unit Housing</td>\n",
       "    </tr>\n",
       "    <tr>\n",
       "      <th>23</th>\n",
       "      <td>2019-03-14</td>\n",
       "      <td>From Field</td>\n",
       "      <td>Cat</td>\n",
       "      <td>Other Adult (over 16 weeks)</td>\n",
       "      <td>N/A</td>\n",
       "      <td>Adoption</td>\n",
       "      <td>Did Not Die</td>\n",
       "      <td>None/Not Applicable</td>\n",
       "    </tr>\n",
       "    <tr>\n",
       "      <th>24</th>\n",
       "      <td>2019-03-14</td>\n",
       "      <td>From Field</td>\n",
       "      <td>Cat</td>\n",
       "      <td>Neonatal (less than 7 weeks)</td>\n",
       "      <td>N/A</td>\n",
       "      <td>Death</td>\n",
       "      <td>Medical - Ringworm</td>\n",
       "      <td>None/Not Applicable</td>\n",
       "    </tr>\n",
       "    <tr>\n",
       "      <th>25</th>\n",
       "      <td>2019-03-14</td>\n",
       "      <td>From Field</td>\n",
       "      <td>Cat</td>\n",
       "      <td>Nursing Mom</td>\n",
       "      <td>N/A</td>\n",
       "      <td>Adoption</td>\n",
       "      <td>Did Not Die</td>\n",
       "      <td>None/Not Applicable</td>\n",
       "    </tr>\n",
       "    <tr>\n",
       "      <th>26</th>\n",
       "      <td>2019-03-14</td>\n",
       "      <td>From Field</td>\n",
       "      <td>Cat</td>\n",
       "      <td>Neonatal (less than 7 weeks)</td>\n",
       "      <td>N/A</td>\n",
       "      <td>Adoption</td>\n",
       "      <td>Did Not Die</td>\n",
       "      <td>None/Not Applicable</td>\n",
       "    </tr>\n",
       "  </tbody>\n",
       "</table>\n",
       "</div>"
      ],
      "text/plain": [
       "   Intake Date        Source Species  \\\n",
       "0   2019-03-05    From Field     Dog   \n",
       "1   2019-03-06    From Field     Dog   \n",
       "2   2019-03-05  Over Counter     Dog   \n",
       "3   2019-03-07  Over Counter     Dog   \n",
       "4   2019-03-05    From Field     Dog   \n",
       "5   2019-03-08    From Field     Dog   \n",
       "6   2019-03-08    From Field     Dog   \n",
       "7   2019-03-09  Over Counter     Dog   \n",
       "8   2019-03-10    From Field     Dog   \n",
       "9   2019-03-11    From Field     Dog   \n",
       "10  2019-03-12    From Field     Dog   \n",
       "11  2019-03-13  Over Counter     Dog   \n",
       "12  2019-03-14  Over Counter     Dog   \n",
       "13  2019-03-14  Over Counter     Dog   \n",
       "14  2019-03-14    From Field     Cat   \n",
       "15  2019-03-14  Over Counter     Cat   \n",
       "16  2019-03-14    From Field     Dog   \n",
       "17  2019-03-14  Over Counter     Dog   \n",
       "18  2019-03-14    From Field     Dog   \n",
       "19  2019-03-14    From Field     Cat   \n",
       "20  2019-03-14  Over Counter     Dog   \n",
       "21  2019-03-14    From Field     Dog   \n",
       "22  2019-03-14    From Field     Dog   \n",
       "23  2019-03-14    From Field     Cat   \n",
       "24  2019-03-14    From Field     Cat   \n",
       "25  2019-03-14    From Field     Cat   \n",
       "26  2019-03-14    From Field     Cat   \n",
       "\n",
       "                                       Group                          Size  \\\n",
       "0               Neonatal (less than 7 weeks)  Small (under 30lbs for dogs)   \n",
       "1               Neonatal (less than 7 weeks)  Small (under 30lbs for dogs)   \n",
       "2               Neonatal (less than 7 weeks)  Small (under 30lbs for dogs)   \n",
       "3                                Nursing Mom  Small (under 30lbs for dogs)   \n",
       "4   Puppies/Kittens (7-16 weeks - inclusive)  Small (under 30lbs for dogs)   \n",
       "5                Other Adult (over 16 weeks)   Large (over 30lbs for dogs)   \n",
       "6                Other Adult (over 16 weeks)   Large (over 30lbs for dogs)   \n",
       "7                Other Adult (over 16 weeks)   Large (over 30lbs for dogs)   \n",
       "8   Puppies/Kittens (7-16 weeks - inclusive)   Large (over 30lbs for dogs)   \n",
       "9   Puppies/Kittens (7-16 weeks - inclusive)   Large (over 30lbs for dogs)   \n",
       "10               Other Adult (over 16 weeks)   Large (over 30lbs for dogs)   \n",
       "11               Other Adult (over 16 weeks)   Large (over 30lbs for dogs)   \n",
       "12               Other Adult (over 16 weeks)   Large (over 30lbs for dogs)   \n",
       "13               Other Adult (over 16 weeks)   Large (over 30lbs for dogs)   \n",
       "14  Puppies/Kittens (7-16 weeks - inclusive)                           N/A   \n",
       "15  Puppies/Kittens (7-16 weeks - inclusive)                           N/A   \n",
       "16               Other Adult (over 16 weeks)   Large (over 30lbs for dogs)   \n",
       "17               Other Adult (over 16 weeks)  Small (under 30lbs for dogs)   \n",
       "18               Other Adult (over 16 weeks)  Small (under 30lbs for dogs)   \n",
       "19               Other Adult (over 16 weeks)                           N/A   \n",
       "20  Puppies/Kittens (7-16 weeks - inclusive)  Small (under 30lbs for dogs)   \n",
       "21  Puppies/Kittens (7-16 weeks - inclusive)  Small (under 30lbs for dogs)   \n",
       "22               Other Adult (over 16 weeks)  Small (under 30lbs for dogs)   \n",
       "23               Other Adult (over 16 weeks)                           N/A   \n",
       "24              Neonatal (less than 7 weeks)                           N/A   \n",
       "25                               Nursing Mom                           N/A   \n",
       "26              Neonatal (less than 7 weeks)                           N/A   \n",
       "\n",
       "            Outcome Cause of Death (if applicable)         Housing Need  \n",
       "0          Adoption                    Did Not Die           Co-Housing  \n",
       "1          Adoption                    Did Not Die           Co-Housing  \n",
       "2          Adoption                    Did Not Die           Co-Housing  \n",
       "3          Adoption                    Did Not Die           Co-Housing  \n",
       "4   Return to Owner                    Did Not Die           Co-Housing  \n",
       "5   Return to Owner                    Did Not Die  Single Unit Housing  \n",
       "6          Transfer                    Did Not Die  Single Unit Housing  \n",
       "7             Death                       Behavior  Single Unit Housing  \n",
       "8          Adoption                    Did Not Die  Single Unit Housing  \n",
       "9          Adoption                    Did Not Die  Single Unit Housing  \n",
       "10         Adoption                    Did Not Die  Single Unit Housing  \n",
       "11         Adoption                    Did Not Die  Single Unit Housing  \n",
       "12  Return to Owner                    Did Not Die  Single Unit Housing  \n",
       "13            Death                Medical - Parvo  Single Unit Housing  \n",
       "14            Death                Medical - Parvo  None/Not Applicable  \n",
       "15         Adoption                    Did Not Die  None/Not Applicable  \n",
       "16         Adoption                    Did Not Die  Single Unit Housing  \n",
       "17         Adoption                    Did Not Die           Co-Housing  \n",
       "18         Adoption                    Did Not Die           Co-Housing  \n",
       "19         Adoption                    Did Not Die  None/Not Applicable  \n",
       "20         Adoption                    Did Not Die           Co-Housing  \n",
       "21  Return to Owner                    Did Not Die           Co-Housing  \n",
       "22            Death      Medical - URI - Distemper  Single Unit Housing  \n",
       "23         Adoption                    Did Not Die  None/Not Applicable  \n",
       "24            Death             Medical - Ringworm  None/Not Applicable  \n",
       "25         Adoption                    Did Not Die  None/Not Applicable  \n",
       "26         Adoption                    Did Not Die  None/Not Applicable  "
      ]
     },
     "execution_count": 18,
     "metadata": {},
     "output_type": "execute_result"
    }
   ],
   "source": [
    "df"
   ]
  },
  {
   "cell_type": "code",
   "execution_count": 8,
   "metadata": {},
   "outputs": [
    {
     "data": {
      "text/plain": [
       "<matplotlib.axes._subplots.AxesSubplot at 0x1e5cf074048>"
      ]
     },
     "execution_count": 8,
     "metadata": {},
     "output_type": "execute_result"
    },
    {
     "data": {
      "image/png": "[encoded data removed]",
      "text/plain": [
       "<Figure size 432x288 with 1 Axes>"
      ]
     },
     "metadata": {
      "needs_background": "light"
     },
     "output_type": "display_data"
    }
   ],
   "source": [
    "import matplotlib.pyplot as plt\n",
    "%matplotlib inline\n",
    "\n",
    "df.groupby('Intake Date')['Outcome'].value_counts().plot()"
   ]
  },
  {
   "cell_type": "code",
   "execution_count": 9,
   "metadata": {},
   "outputs": [
    {
     "data": {
      "text/plain": [
       "Index(['Adoption', 'Death', 'Return to Owner', 'Transfer'], dtype='object')"
      ]
     },
     "execution_count": 9,
     "metadata": {},
     "output_type": "execute_result"
    }
   ],
   "source": [
    "df['Outcome'].value_counts().keys()"
   ]
  },
  {
   "cell_type": "code",
   "execution_count": 10,
   "metadata": {},
   "outputs": [
    {
     "data": {
      "text/html": [
       "<script type=\"text/javascript\">window.PlotlyConfig = {MathJaxConfig: 'local'};</script><script type=\"text/javascript\">if (window.MathJax) {MathJax.Hub.Config({SVG: {font: \"STIX-Web\"}});}</script><script>requirejs.config({paths: { 'plotly': ['https://cdn.plot.ly/plotly-latest.min']},});if(!window._Plotly) {require(['plotly'],function(plotly) {window._Plotly=plotly;});}</script>"
      ],
      "text/vnd.plotly.v1+html": [
       "<script type=\"text/javascript\">window.PlotlyConfig = {MathJaxConfig: 'local'};</script><script type=\"text/javascript\">if (window.MathJax) {MathJax.Hub.Config({SVG: {font: \"STIX-Web\"}});}</script><script>requirejs.config({paths: { 'plotly': ['https://cdn.plot.ly/plotly-latest.min']},});if(!window._Plotly) {require(['plotly'],function(plotly) {window._Plotly=plotly;});}</script>"
      ]
     },
     "metadata": {},
     "output_type": "display_data"
    }
   ],
   "source": [
    "import plotly.graph_objs as go\n",
    "from plotly.offline import download_plotlyjs, init_notebook_mode, plot, iplot\n",
    "\n",
    "init_notebook_mode(connected=True)"
   ]
  },
  {
   "cell_type": "code",
   "execution_count": 19,
   "metadata": {},
   "outputs": [
    {
     "data": {
      "application/vnd.plotly.v1+json": {
       "config": {
        "linkText": "Export to plot.ly",
        "plotlyServerURL": "https://plot.ly",
        "showLink": false
       },
       "data": [
        {
         "name": "Adoption",
         "type": "histogram",
         "uid": "9385889f-dc42-40fa-85f1-0660a2163d22",
         "x": [
          "2019-03-05",
          "2019-03-06",
          "2019-03-05",
          "2019-03-07",
          "2019-03-10",
          "2019-03-11",
          "2019-03-12",
          "2019-03-13",
          "2019-03-14",
          "2019-03-14",
          "2019-03-14",
          "2019-03-14",
          "2019-03-14",
          "2019-03-14",
          "2019-03-14",
          "2019-03-14",
          "2019-03-14"
         ]
        },
        {
         "name": "Death",
         "type": "histogram",
         "uid": "9b7a124f-9154-4641-955b-77b503dc678d",
         "x": [
          "2019-03-09",
          "2019-03-14",
          "2019-03-14",
          "2019-03-14",
          "2019-03-14"
         ]
        },
        {
         "name": "Return To Owner",
         "type": "histogram",
         "uid": "93a55c01-cd31-4655-b0c6-aee681cd3af1",
         "x": [
          "2019-03-05",
          "2019-03-08",
          "2019-03-14",
          "2019-03-14"
         ]
        },
        {
         "name": "Transfer",
         "type": "histogram",
         "uid": "4596b2c7-0cd6-4d94-ac2a-4724c56cf65b",
         "x": [
          "2019-03-08"
         ]
        }
       ],
       "layout": {
        "barmode": "stack"
       }
      },
      "text/html": [
       "<div id=\"6a85f2f8-8d3e-4668-97e7-0564701bdcde\" style=\"height: 525px; width: 100%;\" class=\"plotly-graph-div\"></div><script type=\"text/javascript\">require([\"plotly\"], function(Plotly) { window.PLOTLYENV=window.PLOTLYENV || {};window.PLOTLYENV.BASE_URL=\"https://plot.ly\";\n",
       "if (document.getElementById(\"6a85f2f8-8d3e-4668-97e7-0564701bdcde\")) {\n",
       "    Plotly.newPlot(\"6a85f2f8-8d3e-4668-97e7-0564701bdcde\", [{\"name\": \"Adoption\", \"x\": [\"2019-03-05\", \"2019-03-06\", \"2019-03-05\", \"2019-03-07\", \"2019-03-10\", \"2019-03-11\", \"2019-03-12\", \"2019-03-13\", \"2019-03-14\", \"2019-03-14\", \"2019-03-14\", \"2019-03-14\", \"2019-03-14\", \"2019-03-14\", \"2019-03-14\", \"2019-03-14\", \"2019-03-14\"], \"type\": \"histogram\", \"uid\": \"9385889f-dc42-40fa-85f1-0660a2163d22\"}, {\"name\": \"Death\", \"x\": [\"2019-03-09\", \"2019-03-14\", \"2019-03-14\", \"2019-03-14\", \"2019-03-14\"], \"type\": \"histogram\", \"uid\": \"9b7a124f-9154-4641-955b-77b503dc678d\"}, {\"name\": \"Return To Owner\", \"x\": [\"2019-03-05\", \"2019-03-08\", \"2019-03-14\", \"2019-03-14\"], \"type\": \"histogram\", \"uid\": \"93a55c01-cd31-4655-b0c6-aee681cd3af1\"}, {\"name\": \"Transfer\", \"x\": [\"2019-03-08\"], \"type\": \"histogram\", \"uid\": \"4596b2c7-0cd6-4d94-ac2a-4724c56cf65b\"}], {\"barmode\": \"stack\"}, {\"showLink\": false, \"linkText\": \"Export to plot.ly\", \"plotlyServerURL\": \"https://plot.ly\"}); \n",
       "}\n",
       "});</script><script type=\"text/javascript\">window.addEventListener(\"resize\", function(){if (document.getElementById(\"6a85f2f8-8d3e-4668-97e7-0564701bdcde\")) {window._Plotly.Plots.resize(document.getElementById(\"6a85f2f8-8d3e-4668-97e7-0564701bdcde\"));};})</script>"
      ],
      "text/vnd.plotly.v1+html": [
       "<div id=\"6a85f2f8-8d3e-4668-97e7-0564701bdcde\" style=\"height: 525px; width: 100%;\" class=\"plotly-graph-div\"></div><script type=\"text/javascript\">require([\"plotly\"], function(Plotly) { window.PLOTLYENV=window.PLOTLYENV || {};window.PLOTLYENV.BASE_URL=\"https://plot.ly\";\n",
       "if (document.getElementById(\"6a85f2f8-8d3e-4668-97e7-0564701bdcde\")) {\n",
       "    Plotly.newPlot(\"6a85f2f8-8d3e-4668-97e7-0564701bdcde\", [{\"name\": \"Adoption\", \"x\": [\"2019-03-05\", \"2019-03-06\", \"2019-03-05\", \"2019-03-07\", \"2019-03-10\", \"2019-03-11\", \"2019-03-12\", \"2019-03-13\", \"2019-03-14\", \"2019-03-14\", \"2019-03-14\", \"2019-03-14\", \"2019-03-14\", \"2019-03-14\", \"2019-03-14\", \"2019-03-14\", \"2019-03-14\"], \"type\": \"histogram\", \"uid\": \"9385889f-dc42-40fa-85f1-0660a2163d22\"}, {\"name\": \"Death\", \"x\": [\"2019-03-09\", \"2019-03-14\", \"2019-03-14\", \"2019-03-14\", \"2019-03-14\"], \"type\": \"histogram\", \"uid\": \"9b7a124f-9154-4641-955b-77b503dc678d\"}, {\"name\": \"Return To Owner\", \"x\": [\"2019-03-05\", \"2019-03-08\", \"2019-03-14\", \"2019-03-14\"], \"type\": \"histogram\", \"uid\": \"93a55c01-cd31-4655-b0c6-aee681cd3af1\"}, {\"name\": \"Transfer\", \"x\": [\"2019-03-08\"], \"type\": \"histogram\", \"uid\": \"4596b2c7-0cd6-4d94-ac2a-4724c56cf65b\"}], {\"barmode\": \"stack\"}, {\"showLink\": false, \"linkText\": \"Export to plot.ly\", \"plotlyServerURL\": \"https://plot.ly\"}); \n",
       "}\n",
       "});</script><script type=\"text/javascript\">window.addEventListener(\"resize\", function(){if (document.getElementById(\"6a85f2f8-8d3e-4668-97e7-0564701bdcde\")) {window._Plotly.Plots.resize(document.getElementById(\"6a85f2f8-8d3e-4668-97e7-0564701bdcde\"));};})</script>"
      ]
     },
     "metadata": {},
     "output_type": "display_data"
    }
   ],
   "source": [
    "traces = [go.Histogram(x=df[df['Outcome']==outcome]['Intake Date'], name=outcome.title()) for outcome in list(df['Outcome'].value_counts().keys())]\n",
    "fig = go.Figure(data=traces, layout=go.Layout(barmode='stack'))\n",
    "iplot(fig, filename='basic histogram')"
   ]
  },
  {
   "cell_type": "code",
   "execution_count": 47,
   "metadata": {},
   "outputs": [
    {
     "name": "stdout",
     "output_type": "stream",
     "text": [
      "MultiIndex(levels=[['Cat', 'Dog'], ['Neonatal (less than 7 weeks)', 'Nursing Mom', 'Other Adult (over 16 weeks)', 'Puppies/Kittens (7-16 weeks - inclusive)']],\n",
      "           codes=[[0, 0, 0, 0, 1, 1, 1, 1], [0, 1, 2, 3, 0, 1, 2, 3]],\n",
      "           names=['Species', 'Group'])\n",
      "['Cat', 'Dog']\n",
      "['Neonatal (less than 7 weeks)', 'Nursing Mom', 'Other Adult (over 16 weeks)', 'Puppies/Kittens (7-16 weeks - inclusive)']\n",
      "[[ 2  1  2  2]\n",
      " [ 3  1 11  5]]\n",
      "Species  Group                                   \n",
      "Cat      Neonatal (less than 7 weeks)                 2\n",
      "         Nursing Mom                                  1\n",
      "         Other Adult (over 16 weeks)                  2\n",
      "         Puppies/Kittens (7-16 weeks - inclusive)     2\n",
      "Dog      Neonatal (less than 7 weeks)                 3\n",
      "         Nursing Mom                                  1\n",
      "         Other Adult (over 16 weeks)                 11\n",
      "         Puppies/Kittens (7-16 weeks - inclusive)     5\n",
      "Name: Group, dtype: int64\n"
     ]
    }
   ],
   "source": [
    "vals = df.groupby('Species')['Group'].value_counts().sort_index()\n",
    "print(vals.keys())\n",
    "row_labels, col_labels = [x.tolist() for x in vals.keys().levels]\n",
    "print(row_labels)\n",
    "print(col_labels)\n",
    "z = vals\n",
    "print(z)\n",
    "print(vals)"
   ]
  },
  {
   "cell_type": "code",
   "execution_count": 65,
   "metadata": {},
   "outputs": [
    {
     "name": "stdout",
     "output_type": "stream",
     "text": [
      "This is the format of your plot grid:\n",
      "[ (1,1) x1,y1 ]  [ (1,2) x2,y2 ]\n",
      "\n"
     ]
    },
    {
     "data": {
      "application/vnd.plotly.v1+json": {
       "config": {
        "linkText": "Export to plot.ly",
        "plotlyServerURL": "https://plot.ly",
        "showLink": false
       },
       "data": [
        {
         "type": "histogram",
         "uid": "0b1ae5c3-ce87-446a-b9a2-5e5b38f183bc",
         "x": [
          "Small (under 30lbs for dogs)",
          "Small (under 30lbs for dogs)",
          "Small (under 30lbs for dogs)",
          "Small (under 30lbs for dogs)",
          "Small (under 30lbs for dogs)",
          "Large (over 30lbs for dogs)",
          "Large (over 30lbs for dogs)",
          "Large (over 30lbs for dogs)",
          "Large (over 30lbs for dogs)",
          "Large (over 30lbs for dogs)",
          "Large (over 30lbs for dogs)",
          "Large (over 30lbs for dogs)",
          "Large (over 30lbs for dogs)",
          "Large (over 30lbs for dogs)",
          "Large (over 30lbs for dogs)",
          "Small (under 30lbs for dogs)",
          "Small (under 30lbs for dogs)",
          "Small (under 30lbs for dogs)",
          "Small (under 30lbs for dogs)",
          "Small (under 30lbs for dogs)"
         ],
         "xaxis": "x",
         "yaxis": "y"
        },
        {
         "colorscale": "Viridis",
         "type": "heatmap",
         "uid": "b2b7cb28-5fd1-4620-a74a-a42e383bf035",
         "x": [
          "Neonatal (less than 7 weeks)",
          "Nursing Mom",
          "Other Adult (over 16 weeks)",
          "Puppies/Kittens (7-16 weeks - inclusive)"
         ],
         "xaxis": "x2",
         "y": [
          "Cat",
          "Dog"
         ],
         "yaxis": "y2",
         "z": [
          [
           2,
           1,
           2,
           2
          ],
          [
           3,
           1,
           11,
           5
          ]
         ]
        }
       ],
       "layout": {
        "annotations": [
         {
          "font": {
           "size": 16
          },
          "showarrow": false,
          "text": "Adult Dog Sizes",
          "x": 0.225,
          "xanchor": "center",
          "xref": "paper",
          "y": 1,
          "yanchor": "bottom",
          "yref": "paper"
         },
         {
          "font": {
           "size": 16
          },
          "showarrow": false,
          "text": "Population Totals",
          "x": 0.775,
          "xanchor": "center",
          "xref": "paper",
          "y": 1,
          "yanchor": "bottom",
          "yref": "paper"
         }
        ],
        "xaxis": {
         "anchor": "y",
         "domain": [
          0,
          0.45
         ]
        },
        "xaxis2": {
         "anchor": "y2",
         "domain": [
          0.55,
          1
         ]
        },
        "yaxis": {
         "anchor": "x",
         "domain": [
          0,
          1
         ]
        },
        "yaxis2": {
         "anchor": "x2",
         "domain": [
          0,
          1
         ]
        }
       }
      },
      "text/html": [
       "<div id=\"795d3610-ba54-4f77-9cbf-6340cec95c4e\" style=\"height: 525px; width: 100%;\" class=\"plotly-graph-div\"></div><script type=\"text/javascript\">require([\"plotly\"], function(Plotly) { window.PLOTLYENV=window.PLOTLYENV || {};window.PLOTLYENV.BASE_URL=\"https://plot.ly\";\n",
       "if (document.getElementById(\"795d3610-ba54-4f77-9cbf-6340cec95c4e\")) {\n",
       "    Plotly.newPlot(\"795d3610-ba54-4f77-9cbf-6340cec95c4e\", [{\"x\": [\"Small (under 30lbs for dogs)\", \"Small (under 30lbs for dogs)\", \"Small (under 30lbs for dogs)\", \"Small (under 30lbs for dogs)\", \"Small (under 30lbs for dogs)\", \"Large (over 30lbs for dogs)\", \"Large (over 30lbs for dogs)\", \"Large (over 30lbs for dogs)\", \"Large (over 30lbs for dogs)\", \"Large (over 30lbs for dogs)\", \"Large (over 30lbs for dogs)\", \"Large (over 30lbs for dogs)\", \"Large (over 30lbs for dogs)\", \"Large (over 30lbs for dogs)\", \"Large (over 30lbs for dogs)\", \"Small (under 30lbs for dogs)\", \"Small (under 30lbs for dogs)\", \"Small (under 30lbs for dogs)\", \"Small (under 30lbs for dogs)\", \"Small (under 30lbs for dogs)\"], \"type\": \"histogram\", \"uid\": \"0b1ae5c3-ce87-446a-b9a2-5e5b38f183bc\", \"xaxis\": \"x\", \"yaxis\": \"y\"}, {\"colorscale\": \"Viridis\", \"x\": [\"Neonatal (less than 7 weeks)\", \"Nursing Mom\", \"Other Adult (over 16 weeks)\", \"Puppies/Kittens (7-16 weeks - inclusive)\"], \"y\": [\"Cat\", \"Dog\"], \"z\": [[2, 1, 2, 2], [3, 1, 11, 5]], \"type\": \"heatmap\", \"uid\": \"b2b7cb28-5fd1-4620-a74a-a42e383bf035\", \"xaxis\": \"x2\", \"yaxis\": \"y2\"}], {\"annotations\": [{\"font\": {\"size\": 16}, \"showarrow\": false, \"text\": \"Adult Dog Sizes\", \"x\": 0.225, \"xanchor\": \"center\", \"xref\": \"paper\", \"y\": 1.0, \"yanchor\": \"bottom\", \"yref\": \"paper\"}, {\"font\": {\"size\": 16}, \"showarrow\": false, \"text\": \"Population Totals\", \"x\": 0.775, \"xanchor\": \"center\", \"xref\": \"paper\", \"y\": 1.0, \"yanchor\": \"bottom\", \"yref\": \"paper\"}], \"xaxis\": {\"anchor\": \"y\", \"domain\": [0.0, 0.45]}, \"yaxis\": {\"anchor\": \"x\", \"domain\": [0.0, 1.0]}, \"xaxis2\": {\"anchor\": \"y2\", \"domain\": [0.55, 1.0]}, \"yaxis2\": {\"anchor\": \"x2\", \"domain\": [0.0, 1.0]}}, {\"showLink\": false, \"linkText\": \"Export to plot.ly\", \"plotlyServerURL\": \"https://plot.ly\"}); \n",
       "}\n",
       "});</script><script type=\"text/javascript\">window.addEventListener(\"resize\", function(){if (document.getElementById(\"795d3610-ba54-4f77-9cbf-6340cec95c4e\")) {window._Plotly.Plots.resize(document.getElementById(\"795d3610-ba54-4f77-9cbf-6340cec95c4e\"));};})</script>"
      ],
      "text/vnd.plotly.v1+html": [
       "<div id=\"795d3610-ba54-4f77-9cbf-6340cec95c4e\" style=\"height: 525px; width: 100%;\" class=\"plotly-graph-div\"></div><script type=\"text/javascript\">require([\"plotly\"], function(Plotly) { window.PLOTLYENV=window.PLOTLYENV || {};window.PLOTLYENV.BASE_URL=\"https://plot.ly\";\n",
       "if (document.getElementById(\"795d3610-ba54-4f77-9cbf-6340cec95c4e\")) {\n",
       "    Plotly.newPlot(\"795d3610-ba54-4f77-9cbf-6340cec95c4e\", [{\"x\": [\"Small (under 30lbs for dogs)\", \"Small (under 30lbs for dogs)\", \"Small (under 30lbs for dogs)\", \"Small (under 30lbs for dogs)\", \"Small (under 30lbs for dogs)\", \"Large (over 30lbs for dogs)\", \"Large (over 30lbs for dogs)\", \"Large (over 30lbs for dogs)\", \"Large (over 30lbs for dogs)\", \"Large (over 30lbs for dogs)\", \"Large (over 30lbs for dogs)\", \"Large (over 30lbs for dogs)\", \"Large (over 30lbs for dogs)\", \"Large (over 30lbs for dogs)\", \"Large (over 30lbs for dogs)\", \"Small (under 30lbs for dogs)\", \"Small (under 30lbs for dogs)\", \"Small (under 30lbs for dogs)\", \"Small (under 30lbs for dogs)\", \"Small (under 30lbs for dogs)\"], \"type\": \"histogram\", \"uid\": \"0b1ae5c3-ce87-446a-b9a2-5e5b38f183bc\", \"xaxis\": \"x\", \"yaxis\": \"y\"}, {\"colorscale\": \"Viridis\", \"x\": [\"Neonatal (less than 7 weeks)\", \"Nursing Mom\", \"Other Adult (over 16 weeks)\", \"Puppies/Kittens (7-16 weeks - inclusive)\"], \"y\": [\"Cat\", \"Dog\"], \"z\": [[2, 1, 2, 2], [3, 1, 11, 5]], \"type\": \"heatmap\", \"uid\": \"b2b7cb28-5fd1-4620-a74a-a42e383bf035\", \"xaxis\": \"x2\", \"yaxis\": \"y2\"}], {\"annotations\": [{\"font\": {\"size\": 16}, \"showarrow\": false, \"text\": \"Adult Dog Sizes\", \"x\": 0.225, \"xanchor\": \"center\", \"xref\": \"paper\", \"y\": 1.0, \"yanchor\": \"bottom\", \"yref\": \"paper\"}, {\"font\": {\"size\": 16}, \"showarrow\": false, \"text\": \"Population Totals\", \"x\": 0.775, \"xanchor\": \"center\", \"xref\": \"paper\", \"y\": 1.0, \"yanchor\": \"bottom\", \"yref\": \"paper\"}], \"xaxis\": {\"anchor\": \"y\", \"domain\": [0.0, 0.45]}, \"yaxis\": {\"anchor\": \"x\", \"domain\": [0.0, 1.0]}, \"xaxis2\": {\"anchor\": \"y2\", \"domain\": [0.55, 1.0]}, \"yaxis2\": {\"anchor\": \"x2\", \"domain\": [0.0, 1.0]}}, {\"showLink\": false, \"linkText\": \"Export to plot.ly\", \"plotlyServerURL\": \"https://plot.ly\"}); \n",
       "}\n",
       "});</script><script type=\"text/javascript\">window.addEventListener(\"resize\", function(){if (document.getElementById(\"795d3610-ba54-4f77-9cbf-6340cec95c4e\")) {window._Plotly.Plots.resize(document.getElementById(\"795d3610-ba54-4f77-9cbf-6340cec95c4e\"));};})</script>"
      ]
     },
     "metadata": {},
     "output_type": "display_data"
    }
   ],
   "source": [
    "from plotly import tools\n",
    "vals = df.groupby('Species')['Group'].value_counts().sort_index()\n",
    "row_labels, col_labels = [x.tolist() for x in vals.keys().levels]\n",
    "z = vals.values.reshape(2, 4)\n",
    "heatmap = go.Heatmap(z=z, x=col_labels, y=row_labels, colorscale='Viridis')\n",
    "hist = go.Histogram(x=df[df['Species'] == 'Dog']['Size'])\n",
    "fig = tools.make_subplots(rows=1, cols=2, subplot_titles=('Adult Dog Sizes', 'Population Totals'))\n",
    "fig.append_trace(hist, 1, 1)\n",
    "fig.append_trace(heatmap, 1, 2)\n",
    "iplot(fig)"
   ]
  },
  {
   "cell_type": "code",
   "execution_count": 74,
   "metadata": {},
   "outputs": [
    {
     "data": {
      "text/plain": [
       "array(['2019-03-05', '2019-03-06', '2019-03-07', '2019-03-08',\n",
       "       '2019-03-09', '2019-03-10', '2019-03-11', '2019-03-12',\n",
       "       '2019-03-13', '2019-03-14'], dtype=object)"
      ]
     },
     "execution_count": 74,
     "metadata": {},
     "output_type": "execute_result"
    }
   ],
   "source": [
    "df['Intake Date'].unique()"
   ]
  },
  {
   "cell_type": "code",
   "execution_count": 79,
   "metadata": {},
   "outputs": [
    {
     "name": "stdout",
     "output_type": "stream",
     "text": [
      "16\n",
      "[[2 2 2 2 2]\n",
      " [1 1 1 1 1]\n",
      " [2 2 2 2 2]\n",
      " [2 2 2 2 2]\n",
      " [2 2 2 2 2]\n",
      " [1 1 1 1 1]\n",
      " [1 1 1 1 1]\n",
      " [2 2 2 2 2]\n",
      " [1 1 1 1 1]\n",
      " [1 1 1 1 1]\n",
      " [1 1 1 1 1]\n",
      " [6 6 6 6 6]\n",
      " [1 1 1 1 1]\n",
      " [1 1 1 1 1]\n",
      " [1 1 1 1 1]\n",
      " [2 2 2 2 2]]\n"
     ]
    }
   ],
   "source": [
    "from plotly import tools\n",
    "\n",
    "#print(vals.keys().levels)\n",
    "\n",
    "#row_labels, col_labels = [x.tolist() for x in vals.keys().levels]\n",
    "#z = vals.values.reshape(2, 4)\n",
    "#heatmap = go.Heatmap(z=z, x=col_labels, y=row_labels, colorscale='Viridis')\n",
    "print(len(vals))\n",
    "print(vals.values)\n",
    "print(np.meshgrid(x, y, z, sparse=True))"
   ]
  },
  {
   "cell_type": "code",
   "execution_count": null,
   "metadata": {},
   "outputs": [],
   "source": []
  }
 ],
 "metadata": {
  "kernelspec": {
   "display_name": "Python 3",
   "language": "python",
   "name": "python3"
  },
  "language_info": {
   "codemirror_mode": {
    "name": "ipython",
    "version": 3
   },
   "file_extension": ".py",
   "mimetype": "text/x-python",
   "name": "python",
   "nbconvert_exporter": "python",
   "pygments_lexer": "ipython3",
   "version": "3.6.8"
  }
 },
 "nbformat": 4,
 "nbformat_minor": 2
}
